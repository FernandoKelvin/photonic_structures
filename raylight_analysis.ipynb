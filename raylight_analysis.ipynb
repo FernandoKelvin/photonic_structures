{
    "cells": [
        {
            "cell_type": "markdown",
            "source": [
                "# LightRay Analysys\r\n",
                "\r\n",
                "In this notebook we will study light reflaction ans refraction, using LightRay analysis and the Snell and Fresnel equations."
            ],
            "metadata": {}
        },
        {
            "cell_type": "code",
            "execution_count": 1,
            "source": [
                "!pip install numpy\r\n",
                "!pip install ipympl\r\n",
                "!pip install matplotlib"
            ],
            "outputs": [
                {
                    "output_type": "stream",
                    "name": "stdout",
                    "text": [
                        "Requirement already satisfied: numpy in c:\\users\\ferwi\\appdata\\local\\packages\\pythonsoftwarefoundation.python.3.9_qbz5n2kfra8p0\\localcache\\local-packages\\python39\\site-packages (1.21.0)\n",
                        "Requirement already satisfied: ipympl in c:\\users\\ferwi\\appdata\\local\\packages\\pythonsoftwarefoundation.python.3.9_qbz5n2kfra8p0\\localcache\\local-packages\\python39\\site-packages (0.7.0)\n",
                        "Requirement already satisfied: matplotlib>=2.0.0 in c:\\users\\ferwi\\appdata\\local\\packages\\pythonsoftwarefoundation.python.3.9_qbz5n2kfra8p0\\localcache\\local-packages\\python39\\site-packages (from ipympl) (3.4.2)\n",
                        "Requirement already satisfied: ipykernel>=4.7 in c:\\users\\ferwi\\appdata\\local\\packages\\pythonsoftwarefoundation.python.3.9_qbz5n2kfra8p0\\localcache\\local-packages\\python39\\site-packages (from ipympl) (6.0.3)\n",
                        "Requirement already satisfied: ipywidgets>=7.6.0 in c:\\users\\ferwi\\appdata\\local\\packages\\pythonsoftwarefoundation.python.3.9_qbz5n2kfra8p0\\localcache\\local-packages\\python39\\site-packages (from ipympl) (7.6.3)\n",
                        "Requirement already satisfied: matplotlib-inline<0.2.0,>=0.1.0 in c:\\users\\ferwi\\appdata\\local\\packages\\pythonsoftwarefoundation.python.3.9_qbz5n2kfra8p0\\localcache\\local-packages\\python39\\site-packages (from ipykernel>=4.7->ipympl) (0.1.2)\n",
                        "Requirement already satisfied: debugpy<2.0,>=1.0.0 in c:\\users\\ferwi\\appdata\\local\\packages\\pythonsoftwarefoundation.python.3.9_qbz5n2kfra8p0\\localcache\\local-packages\\python39\\site-packages (from ipykernel>=4.7->ipympl) (1.3.0)\n",
                        "Requirement already satisfied: traitlets<6.0,>=4.1.0 in c:\\users\\ferwi\\appdata\\local\\packages\\pythonsoftwarefoundation.python.3.9_qbz5n2kfra8p0\\localcache\\local-packages\\python39\\site-packages (from ipykernel>=4.7->ipympl) (5.0.5)\n",
                        "Requirement already satisfied: jupyter-client<7.0 in c:\\users\\ferwi\\appdata\\local\\packages\\pythonsoftwarefoundation.python.3.9_qbz5n2kfra8p0\\localcache\\local-packages\\python39\\site-packages (from ipykernel>=4.7->ipympl) (6.1.12)\n",
                        "Requirement already satisfied: tornado<7.0,>=4.2 in c:\\users\\ferwi\\appdata\\local\\packages\\pythonsoftwarefoundation.python.3.9_qbz5n2kfra8p0\\localcache\\local-packages\\python39\\site-packages (from ipykernel>=4.7->ipympl) (6.1)\n",
                        "Requirement already satisfied: ipython<8.0,>=7.23.1 in c:\\users\\ferwi\\appdata\\local\\packages\\pythonsoftwarefoundation.python.3.9_qbz5n2kfra8p0\\localcache\\local-packages\\python39\\site-packages (from ipykernel>=4.7->ipympl) (7.25.0)\n",
                        "Requirement already satisfied: jedi>=0.16 in c:\\users\\ferwi\\appdata\\local\\packages\\pythonsoftwarefoundation.python.3.9_qbz5n2kfra8p0\\localcache\\local-packages\\python39\\site-packages (from ipython<8.0,>=7.23.1->ipykernel>=4.7->ipympl) (0.18.0)\n",
                        "Requirement already satisfied: pickleshare in c:\\users\\ferwi\\appdata\\local\\packages\\pythonsoftwarefoundation.python.3.9_qbz5n2kfra8p0\\localcache\\local-packages\\python39\\site-packages (from ipython<8.0,>=7.23.1->ipykernel>=4.7->ipympl) (0.7.5)\n",
                        "Requirement already satisfied: setuptools>=18.5 in c:\\program files\\windowsapps\\pythonsoftwarefoundation.python.3.9_3.9.1776.0_x64__qbz5n2kfra8p0\\lib\\site-packages (from ipython<8.0,>=7.23.1->ipykernel>=4.7->ipympl) (56.0.0)\n",
                        "Requirement already satisfied: decorator in c:\\users\\ferwi\\appdata\\local\\packages\\pythonsoftwarefoundation.python.3.9_qbz5n2kfra8p0\\localcache\\local-packages\\python39\\site-packages (from ipython<8.0,>=7.23.1->ipykernel>=4.7->ipympl) (5.0.9)\n",
                        "Requirement already satisfied: pygments in c:\\users\\ferwi\\appdata\\local\\packages\\pythonsoftwarefoundation.python.3.9_qbz5n2kfra8p0\\localcache\\local-packages\\python39\\site-packages (from ipython<8.0,>=7.23.1->ipykernel>=4.7->ipympl) (2.9.0)\n",
                        "Requirement already satisfied: colorama in c:\\users\\ferwi\\appdata\\local\\packages\\pythonsoftwarefoundation.python.3.9_qbz5n2kfra8p0\\localcache\\local-packages\\python39\\site-packages (from ipython<8.0,>=7.23.1->ipykernel>=4.7->ipympl) (0.4.4)\n",
                        "Requirement already satisfied: prompt-toolkit!=3.0.0,!=3.0.1,<3.1.0,>=2.0.0 in c:\\users\\ferwi\\appdata\\local\\packages\\pythonsoftwarefoundation.python.3.9_qbz5n2kfra8p0\\localcache\\local-packages\\python39\\site-packages (from ipython<8.0,>=7.23.1->ipykernel>=4.7->ipympl) (3.0.19)\n",
                        "Requirement already satisfied: backcall in c:\\users\\ferwi\\appdata\\local\\packages\\pythonsoftwarefoundation.python.3.9_qbz5n2kfra8p0\\localcache\\local-packages\\python39\\site-packages (from ipython<8.0,>=7.23.1->ipykernel>=4.7->ipympl) (0.2.0)\n",
                        "Requirement already satisfied: jupyterlab-widgets>=1.0.0 in c:\\users\\ferwi\\appdata\\local\\packages\\pythonsoftwarefoundation.python.3.9_qbz5n2kfra8p0\\localcache\\local-packages\\python39\\site-packages (from ipywidgets>=7.6.0->ipympl) (1.0.0)\n",
                        "Requirement already satisfied: nbformat>=4.2.0 in c:\\users\\ferwi\\appdata\\local\\packages\\pythonsoftwarefoundation.python.3.9_qbz5n2kfra8p0\\localcache\\local-packages\\python39\\site-packages (from ipywidgets>=7.6.0->ipympl) (5.1.3)\n",
                        "Requirement already satisfied: widgetsnbextension~=3.5.0 in c:\\users\\ferwi\\appdata\\local\\packages\\pythonsoftwarefoundation.python.3.9_qbz5n2kfra8p0\\localcache\\local-packages\\python39\\site-packages (from ipywidgets>=7.6.0->ipympl) (3.5.1)\n",
                        "Requirement already satisfied: parso<0.9.0,>=0.8.0 in c:\\users\\ferwi\\appdata\\local\\packages\\pythonsoftwarefoundation.python.3.9_qbz5n2kfra8p0\\localcache\\local-packages\\python39\\site-packages (from jedi>=0.16->ipython<8.0,>=7.23.1->ipykernel>=4.7->ipympl) (0.8.2)\n",
                        "Requirement already satisfied: python-dateutil>=2.1 in c:\\users\\ferwi\\appdata\\local\\packages\\pythonsoftwarefoundation.python.3.9_qbz5n2kfra8p0\\localcache\\local-packages\\python39\\site-packages (from jupyter-client<7.0->ipykernel>=4.7->ipympl) (2.8.2)\n",
                        "Requirement already satisfied: pyzmq>=13 in c:\\users\\ferwi\\appdata\\local\\packages\\pythonsoftwarefoundation.python.3.9_qbz5n2kfra8p0\\localcache\\local-packages\\python39\\site-packages (from jupyter-client<7.0->ipykernel>=4.7->ipympl) (22.1.0)\n",
                        "Requirement already satisfied: jupyter-core>=4.6.0 in c:\\users\\ferwi\\appdata\\local\\packages\\pythonsoftwarefoundation.python.3.9_qbz5n2kfra8p0\\localcache\\local-packages\\python39\\site-packages (from jupyter-client<7.0->ipykernel>=4.7->ipympl) (4.7.1)\n",
                        "Requirement already satisfied: pywin32>=1.0 in c:\\users\\ferwi\\appdata\\local\\packages\\pythonsoftwarefoundation.python.3.9_qbz5n2kfra8p0\\localcache\\local-packages\\python39\\site-packages (from jupyter-core>=4.6.0->jupyter-client<7.0->ipykernel>=4.7->ipympl) (301)\n",
                        "Requirement already satisfied: numpy>=1.16 in c:\\users\\ferwi\\appdata\\local\\packages\\pythonsoftwarefoundation.python.3.9_qbz5n2kfra8p0\\localcache\\local-packages\\python39\\site-packages (from matplotlib>=2.0.0->ipympl) (1.21.0)\n",
                        "Requirement already satisfied: pyparsing>=2.2.1 in c:\\users\\ferwi\\appdata\\local\\packages\\pythonsoftwarefoundation.python.3.9_qbz5n2kfra8p0\\localcache\\local-packages\\python39\\site-packages (from matplotlib>=2.0.0->ipympl) (2.4.7)\n",
                        "Requirement already satisfied: cycler>=0.10 in c:\\users\\ferwi\\appdata\\local\\packages\\pythonsoftwarefoundation.python.3.9_qbz5n2kfra8p0\\localcache\\local-packages\\python39\\site-packages (from matplotlib>=2.0.0->ipympl) (0.10.0)\n",
                        "Requirement already satisfied: pillow>=6.2.0 in c:\\users\\ferwi\\appdata\\local\\packages\\pythonsoftwarefoundation.python.3.9_qbz5n2kfra8p0\\localcache\\local-packages\\python39\\site-packages (from matplotlib>=2.0.0->ipympl) (8.3.1)\n",
                        "Requirement already satisfied: kiwisolver>=1.0.1 in c:\\users\\ferwi\\appdata\\local\\packages\\pythonsoftwarefoundation.python.3.9_qbz5n2kfra8p0\\localcache\\local-packages\\python39\\site-packages (from matplotlib>=2.0.0->ipympl) (1.3.1)\n",
                        "Requirement already satisfied: six in c:\\users\\ferwi\\appdata\\local\\packages\\pythonsoftwarefoundation.python.3.9_qbz5n2kfra8p0\\localcache\\local-packages\\python39\\site-packages (from cycler>=0.10->matplotlib>=2.0.0->ipympl) (1.16.0)\n",
                        "Requirement already satisfied: ipython-genutils in c:\\users\\ferwi\\appdata\\local\\packages\\pythonsoftwarefoundation.python.3.9_qbz5n2kfra8p0\\localcache\\local-packages\\python39\\site-packages (from nbformat>=4.2.0->ipywidgets>=7.6.0->ipympl) (0.2.0)\n",
                        "Requirement already satisfied: jsonschema!=2.5.0,>=2.4 in c:\\users\\ferwi\\appdata\\local\\packages\\pythonsoftwarefoundation.python.3.9_qbz5n2kfra8p0\\localcache\\local-packages\\python39\\site-packages (from nbformat>=4.2.0->ipywidgets>=7.6.0->ipympl) (3.2.0)\n",
                        "Requirement already satisfied: pyrsistent>=0.14.0 in c:\\users\\ferwi\\appdata\\local\\packages\\pythonsoftwarefoundation.python.3.9_qbz5n2kfra8p0\\localcache\\local-packages\\python39\\site-packages (from jsonschema!=2.5.0,>=2.4->nbformat>=4.2.0->ipywidgets>=7.6.0->ipympl) (0.18.0)\n",
                        "Requirement already satisfied: attrs>=17.4.0 in c:\\users\\ferwi\\appdata\\local\\packages\\pythonsoftwarefoundation.python.3.9_qbz5n2kfra8p0\\localcache\\local-packages\\python39\\site-packages (from jsonschema!=2.5.0,>=2.4->nbformat>=4.2.0->ipywidgets>=7.6.0->ipympl) (21.2.0)\n",
                        "Requirement already satisfied: wcwidth in c:\\users\\ferwi\\appdata\\local\\packages\\pythonsoftwarefoundation.python.3.9_qbz5n2kfra8p0\\localcache\\local-packages\\python39\\site-packages (from prompt-toolkit!=3.0.0,!=3.0.1,<3.1.0,>=2.0.0->ipython<8.0,>=7.23.1->ipykernel>=4.7->ipympl) (0.2.5)\n",
                        "Requirement already satisfied: notebook>=4.4.1 in c:\\users\\ferwi\\appdata\\local\\packages\\pythonsoftwarefoundation.python.3.9_qbz5n2kfra8p0\\localcache\\local-packages\\python39\\site-packages (from widgetsnbextension~=3.5.0->ipywidgets>=7.6.0->ipympl) (6.4.0)\n",
                        "Requirement already satisfied: terminado>=0.8.3 in c:\\users\\ferwi\\appdata\\local\\packages\\pythonsoftwarefoundation.python.3.9_qbz5n2kfra8p0\\localcache\\local-packages\\python39\\site-packages (from notebook>=4.4.1->widgetsnbextension~=3.5.0->ipywidgets>=7.6.0->ipympl) (0.10.1)\n",
                        "Requirement already satisfied: prometheus-client in c:\\users\\ferwi\\appdata\\local\\packages\\pythonsoftwarefoundation.python.3.9_qbz5n2kfra8p0\\localcache\\local-packages\\python39\\site-packages (from notebook>=4.4.1->widgetsnbextension~=3.5.0->ipywidgets>=7.6.0->ipympl) (0.11.0)\n",
                        "Requirement already satisfied: nbconvert in c:\\users\\ferwi\\appdata\\local\\packages\\pythonsoftwarefoundation.python.3.9_qbz5n2kfra8p0\\localcache\\local-packages\\python39\\site-packages (from notebook>=4.4.1->widgetsnbextension~=3.5.0->ipywidgets>=7.6.0->ipympl) (6.1.0)\n",
                        "Requirement already satisfied: argon2-cffi in c:\\users\\ferwi\\appdata\\local\\packages\\pythonsoftwarefoundation.python.3.9_qbz5n2kfra8p0\\localcache\\local-packages\\python39\\site-packages (from notebook>=4.4.1->widgetsnbextension~=3.5.0->ipywidgets>=7.6.0->ipympl) (20.1.0)\n",
                        "Requirement already satisfied: Send2Trash>=1.5.0 in c:\\users\\ferwi\\appdata\\local\\packages\\pythonsoftwarefoundation.python.3.9_qbz5n2kfra8p0\\localcache\\local-packages\\python39\\site-packages (from notebook>=4.4.1->widgetsnbextension~=3.5.0->ipywidgets>=7.6.0->ipympl) (1.7.1)\n",
                        "Requirement already satisfied: jinja2 in c:\\users\\ferwi\\appdata\\local\\packages\\pythonsoftwarefoundation.python.3.9_qbz5n2kfra8p0\\localcache\\local-packages\\python39\\site-packages (from notebook>=4.4.1->widgetsnbextension~=3.5.0->ipywidgets>=7.6.0->ipympl) (3.0.1)\n",
                        "Requirement already satisfied: pywinpty>=1.1.0 in c:\\users\\ferwi\\appdata\\local\\packages\\pythonsoftwarefoundation.python.3.9_qbz5n2kfra8p0\\localcache\\local-packages\\python39\\site-packages (from terminado>=0.8.3->notebook>=4.4.1->widgetsnbextension~=3.5.0->ipywidgets>=7.6.0->ipympl) (1.1.3)\n",
                        "Requirement already satisfied: cffi>=1.0.0 in c:\\users\\ferwi\\appdata\\local\\packages\\pythonsoftwarefoundation.python.3.9_qbz5n2kfra8p0\\localcache\\local-packages\\python39\\site-packages (from argon2-cffi->notebook>=4.4.1->widgetsnbextension~=3.5.0->ipywidgets>=7.6.0->ipympl) (1.14.6)\n",
                        "Requirement already satisfied: pycparser in c:\\users\\ferwi\\appdata\\local\\packages\\pythonsoftwarefoundation.python.3.9_qbz5n2kfra8p0\\localcache\\local-packages\\python39\\site-packages (from cffi>=1.0.0->argon2-cffi->notebook>=4.4.1->widgetsnbextension~=3.5.0->ipywidgets>=7.6.0->ipympl) (2.20)\n",
                        "Requirement already satisfied: MarkupSafe>=2.0 in c:\\users\\ferwi\\appdata\\local\\packages\\pythonsoftwarefoundation.python.3.9_qbz5n2kfra8p0\\localcache\\local-packages\\python39\\site-packages (from jinja2->notebook>=4.4.1->widgetsnbextension~=3.5.0->ipywidgets>=7.6.0->ipympl) (2.0.1)\n",
                        "Requirement already satisfied: jupyterlab-pygments in c:\\users\\ferwi\\appdata\\local\\packages\\pythonsoftwarefoundation.python.3.9_qbz5n2kfra8p0\\localcache\\local-packages\\python39\\site-packages (from nbconvert->notebook>=4.4.1->widgetsnbextension~=3.5.0->ipywidgets>=7.6.0->ipympl) (0.1.2)\n",
                        "Requirement already satisfied: defusedxml in c:\\users\\ferwi\\appdata\\local\\packages\\pythonsoftwarefoundation.python.3.9_qbz5n2kfra8p0\\localcache\\local-packages\\python39\\site-packages (from nbconvert->notebook>=4.4.1->widgetsnbextension~=3.5.0->ipywidgets>=7.6.0->ipympl) (0.7.1)\n",
                        "Requirement already satisfied: bleach in c:\\users\\ferwi\\appdata\\local\\packages\\pythonsoftwarefoundation.python.3.9_qbz5n2kfra8p0\\localcache\\local-packages\\python39\\site-packages (from nbconvert->notebook>=4.4.1->widgetsnbextension~=3.5.0->ipywidgets>=7.6.0->ipympl) (3.3.1)\n",
                        "Requirement already satisfied: nbclient<0.6.0,>=0.5.0 in c:\\users\\ferwi\\appdata\\local\\packages\\pythonsoftwarefoundation.python.3.9_qbz5n2kfra8p0\\localcache\\local-packages\\python39\\site-packages (from nbconvert->notebook>=4.4.1->widgetsnbextension~=3.5.0->ipywidgets>=7.6.0->ipympl) (0.5.3)\n",
                        "Requirement already satisfied: testpath in c:\\users\\ferwi\\appdata\\local\\packages\\pythonsoftwarefoundation.python.3.9_qbz5n2kfra8p0\\localcache\\local-packages\\python39\\site-packages (from nbconvert->notebook>=4.4.1->widgetsnbextension~=3.5.0->ipywidgets>=7.6.0->ipympl) (0.5.0)\n",
                        "Requirement already satisfied: entrypoints>=0.2.2 in c:\\users\\ferwi\\appdata\\local\\packages\\pythonsoftwarefoundation.python.3.9_qbz5n2kfra8p0\\localcache\\local-packages\\python39\\site-packages (from nbconvert->notebook>=4.4.1->widgetsnbextension~=3.5.0->ipywidgets>=7.6.0->ipympl) (0.3)\n",
                        "Requirement already satisfied: mistune<2,>=0.8.1 in c:\\users\\ferwi\\appdata\\local\\packages\\pythonsoftwarefoundation.python.3.9_qbz5n2kfra8p0\\localcache\\local-packages\\python39\\site-packages (from nbconvert->notebook>=4.4.1->widgetsnbextension~=3.5.0->ipywidgets>=7.6.0->ipympl) (0.8.4)\n",
                        "Requirement already satisfied: pandocfilters>=1.4.1 in c:\\users\\ferwi\\appdata\\local\\packages\\pythonsoftwarefoundation.python.3.9_qbz5n2kfra8p0\\localcache\\local-packages\\python39\\site-packages (from nbconvert->notebook>=4.4.1->widgetsnbextension~=3.5.0->ipywidgets>=7.6.0->ipympl) (1.4.3)\n",
                        "Requirement already satisfied: nest-asyncio in c:\\users\\ferwi\\appdata\\local\\packages\\pythonsoftwarefoundation.python.3.9_qbz5n2kfra8p0\\localcache\\local-packages\\python39\\site-packages (from nbclient<0.6.0,>=0.5.0->nbconvert->notebook>=4.4.1->widgetsnbextension~=3.5.0->ipywidgets>=7.6.0->ipympl) (1.5.1)\n",
                        "Requirement already satisfied: async-generator in c:\\users\\ferwi\\appdata\\local\\packages\\pythonsoftwarefoundation.python.3.9_qbz5n2kfra8p0\\localcache\\local-packages\\python39\\site-packages (from nbclient<0.6.0,>=0.5.0->nbconvert->notebook>=4.4.1->widgetsnbextension~=3.5.0->ipywidgets>=7.6.0->ipympl) (1.10)\n",
                        "Requirement already satisfied: packaging in c:\\users\\ferwi\\appdata\\local\\packages\\pythonsoftwarefoundation.python.3.9_qbz5n2kfra8p0\\localcache\\local-packages\\python39\\site-packages (from bleach->nbconvert->notebook>=4.4.1->widgetsnbextension~=3.5.0->ipywidgets>=7.6.0->ipympl) (21.0)\n",
                        "Requirement already satisfied: webencodings in c:\\users\\ferwi\\appdata\\local\\packages\\pythonsoftwarefoundation.python.3.9_qbz5n2kfra8p0\\localcache\\local-packages\\python39\\site-packages (from bleach->nbconvert->notebook>=4.4.1->widgetsnbextension~=3.5.0->ipywidgets>=7.6.0->ipympl) (0.5.1)\n",
                        "Requirement already satisfied: matplotlib in c:\\users\\ferwi\\appdata\\local\\packages\\pythonsoftwarefoundation.python.3.9_qbz5n2kfra8p0\\localcache\\local-packages\\python39\\site-packages (3.4.2)\n",
                        "Requirement already satisfied: cycler>=0.10 in c:\\users\\ferwi\\appdata\\local\\packages\\pythonsoftwarefoundation.python.3.9_qbz5n2kfra8p0\\localcache\\local-packages\\python39\\site-packages (from matplotlib) (0.10.0)\n",
                        "Requirement already satisfied: pillow>=6.2.0 in c:\\users\\ferwi\\appdata\\local\\packages\\pythonsoftwarefoundation.python.3.9_qbz5n2kfra8p0\\localcache\\local-packages\\python39\\site-packages (from matplotlib) (8.3.1)\n",
                        "Requirement already satisfied: python-dateutil>=2.7 in c:\\users\\ferwi\\appdata\\local\\packages\\pythonsoftwarefoundation.python.3.9_qbz5n2kfra8p0\\localcache\\local-packages\\python39\\site-packages (from matplotlib) (2.8.2)\n",
                        "Requirement already satisfied: kiwisolver>=1.0.1 in c:\\users\\ferwi\\appdata\\local\\packages\\pythonsoftwarefoundation.python.3.9_qbz5n2kfra8p0\\localcache\\local-packages\\python39\\site-packages (from matplotlib) (1.3.1)\n",
                        "Requirement already satisfied: pyparsing>=2.2.1 in c:\\users\\ferwi\\appdata\\local\\packages\\pythonsoftwarefoundation.python.3.9_qbz5n2kfra8p0\\localcache\\local-packages\\python39\\site-packages (from matplotlib) (2.4.7)\n",
                        "Requirement already satisfied: numpy>=1.16 in c:\\users\\ferwi\\appdata\\local\\packages\\pythonsoftwarefoundation.python.3.9_qbz5n2kfra8p0\\localcache\\local-packages\\python39\\site-packages (from matplotlib) (1.21.0)\n",
                        "Requirement already satisfied: six in c:\\users\\ferwi\\appdata\\local\\packages\\pythonsoftwarefoundation.python.3.9_qbz5n2kfra8p0\\localcache\\local-packages\\python39\\site-packages (from cycler>=0.10->matplotlib) (1.16.0)\n"
                    ]
                }
            ],
            "metadata": {}
        },
        {
            "cell_type": "code",
            "execution_count": 2,
            "source": [
                "from math import *\r\n",
                "import numpy as np\r\n",
                "import matplotlib.pyplot as plt\r\n",
                "\r\n",
                "if 'google.colab' in str(get_ipython()):\r\n",
                "  %matplotlib inline\r\n",
                "else:\r\n",
                "  %matplotlib widget"
            ],
            "outputs": [],
            "metadata": {}
        },
        {
            "cell_type": "markdown",
            "source": [
                "## Create a the a LightRay graph class"
            ],
            "metadata": {}
        },
        {
            "cell_type": "code",
            "execution_count": 3,
            "source": [
                "class LightRay:\r\n",
                "    \"\"\"Defines a LightRay vecto\"\"\"\r\n",
                "    def __init__(self, r_type:int, angle_deg:int, polarization:str='p', ratio:int=1): \r\n",
                "        \"\"\" Intialize a LightRay vector\r\n",
                "\r\n",
                "            Args:\r\n",
                "                type: int\r\n",
                "                    Ray r_type -> 0 = Inciddent, 1 = Reflected and 2 = Refracted\r\n",
                "                angle: float\r\n",
                "                    Angle from the normal in degrees\r\n",
                "            \r\n",
                "            Returns: LightRay object\r\n",
                "        \"\"\"\r\n",
                "        self.type = r_type\r\n",
                "        self.angle = angle_deg\r\n",
                "        self.polarization = polarization\r\n",
                "        self.ratio = ratio\r\n",
                "\r\n",
                "\r\n",
                "class Material:\r\n",
                "    \"\"\"Material with properties related to light interaction\"\"\"\r\n",
                "    \r\n",
                "    def __init__(self, name:str,  refractive_index:str, thickness_mm:float):\r\n",
                "        \"\"\" Intialize a Material\r\n",
                "\r\n",
                "            Args:\r\n",
                "                name: str\r\n",
                "                refractive_index: float\r\n",
                "                thickness_mm: float\r\n",
                "            \r\n",
                "            Returns: Material object\r\n",
                "        \"\"\"\r\n",
                "        self.name = name\r\n",
                "        self.refractive_index = refractive_index\r\n",
                "        self.thickness = thickness_mm\r\n",
                "\r\n",
                "\r\n",
                "class RayGraph:\r\n",
                "    ''' LightRay graph for multiple interfaces'''\r\n",
                "\r\n",
                "    # def __init__(self):\r\n",
                "    #     self.figure, self.axis = plt.subplots()\r\n",
                "    \r\n",
                "    def __init__(self, hight: int, width: int):\r\n",
                "        self.figure, self.axis = plt.subplots()\r\n",
                "        self.axis.set_ylim(-hight//2, hight//2)\r\n",
                "        self.axis.set_xlim(-width//2, width//2)\r\n",
                "        self.axis.set_ylabel('hight (mm)')\r\n",
                "        self.axis.set_xlabel('width (mm)')\r\n",
                "\r\n",
                "\r\n",
                "        interface = self.axis.plot([-width//2, width//2], [0, 0], \r\n",
                "                                    color='gray', linestyle='dashed', alpha= 0.5, label= 'interface')\r\n",
                "        normal = self.axis.plot([0, 0], [-width//2, width//2], \r\n",
                "                                color='yellow', linestyle='dashed', alpha= 0.5, label='normal')\r\n",
                "\r\n",
                "        plt.legend()\r\n",
                "\r\n",
                "        self.ray_color='blue'\r\n",
                "        self.ray_alpha=0.1\r\n",
                "\r\n",
                "    def plot_vector(self, vector: list = [(0, 0),(0, 0)]):\r\n",
                "        \"\"\" Plot a vector based on the start and end point\r\n",
                "            \r\n",
                "            Args: \r\n",
                "                vector: list[(start_x, start_y), (end_x, end_y)]\r\n",
                "            \"\"\"\r\n",
                "        a = vector[0]\r\n",
                "        b = vector[1]\r\n",
                "        dx = b[0] - a[0]\r\n",
                "        dy = b[1] - a[1]\r\n",
                "\r\n",
                "        magnitude = sqrt(dx**2+dy**2)\r\n",
                "        # head_length = magnitude * 0.05\r\n",
                "        head_length = 0.2\r\n",
                "\r\n",
                "        dx = dx / magnitude\r\n",
                "        dy = dy / magnitude\r\n",
                "\r\n",
                "        magnitude = magnitude - head_length\r\n",
                "\r\n",
                "        self.axis.arrow(a[0], a[1], magnitude*dx, magnitude*dy, \r\n",
                "                        head_width=head_length, head_length=head_length, \r\n",
                "                        color=self.ray_color,alpha=self.ray_alpha)\r\n",
                "    \r\n",
                "    def plot_snell_rays(self, incident_ray: LightRay, material_1: Material, material_2: Material):\r\n",
                "        \"\"\"Plot the refracted ray for a 2 material interface based on the snell law\"\"\"\r\n",
                "        incident_x_start = -tan(radians(incident_ray.angle))*material_1.thickness\r\n",
                "        incident_y_start = material_1.thickness\r\n",
                "        incident_x_end = 0\r\n",
                "        incident_y_end = 0\r\n",
                "\r\n",
                "        self.plot_vector([(incident_x_start,incident_y_start),\r\n",
                "                          (incident_x_end,incident_y_end)])\r\n",
                "\r\n",
                "        resultant_ray = snell_resultant(incident_ray, material_1, material_2)\r\n",
                "\r\n",
                "        resultant_x_start = 0\r\n",
                "        resultant_y_start = 0\r\n",
                "\r\n",
                "        if resultant_ray.type == 1: # Total internal reflection ray\r\n",
                "            resultant_x_end = tan(radians(resultant_ray.angle))*material_1.thickness\r\n",
                "            resultant_y_end = material_1.thickness\r\n",
                "        elif resultant_ray.type == 2: # Refracted ray\r\n",
                "            resultant_x_end = tan(radians(resultant_ray.angle))*material_2.thickness\r\n",
                "            resultant_y_end = -material_2.thickness\r\n",
                "    \r\n",
                "        self.plot_vector([(resultant_x_start,resultant_y_start),\r\n",
                "                        (resultant_x_end,resultant_y_end)])\r\n",
                "    \r\n",
                "    def plot_fresnel_rays(self, incident_ray: LightRay, material_1: Material, material_2: Material):\r\n",
                "        \"\"\"Plot the refracted ray for a 2 material interface based on the snell law\"\"\"\r\n",
                "        incident_x_start = -tan(radians(incident_ray.angle))*material_1.thickness\r\n",
                "        incident_y_start = material_1.thickness\r\n",
                "        incident_x_end = 0\r\n",
                "        incident_y_end = 0\r\n",
                "        \r\n",
                "        self.ray_alpha = 1\r\n",
                "        self.plot_vector([(incident_x_start,incident_y_start),\r\n",
                "                          (incident_x_end,incident_y_end)])\r\n",
                "\r\n",
                "        reflected_ray, transmitted_ray = fresnel_resultant(incident_ray, material_1, material_2)\r\n",
                "\r\n",
                "        reflected_x_start = 0\r\n",
                "        reflected_y_start = 0\r\n",
                "        reflected_x_end = tan(radians(reflected_ray.angle))*material_1.thickness\r\n",
                "        reflected_y_end = material_1.thickness\r\n",
                "        \r\n",
                "        self.ray_alpha = reflected_ray.ratio\r\n",
                "        self.plot_vector([(reflected_x_start,reflected_y_start),\r\n",
                "                        (reflected_x_end,reflected_y_end)])\r\n",
                "\r\n",
                "        transmitted_x_start = 0\r\n",
                "        transmitted_y_start = 0\r\n",
                "        transmitted_x_end = tan(radians(reflected_ray.angle))*material_2.thickness\r\n",
                "        transmitted_y_end = -material_2.thickness\r\n",
                "\r\n",
                "        self.ray_alpha = transmitted_ray.ratio\r\n",
                "        self.plot_vector([(transmitted_x_start,transmitted_y_start),\r\n",
                "                        (transmitted_x_end,transmitted_y_end)])\r\n",
                "\r\n",
                "    def show(self):\r\n",
                "        plt.show()"
            ],
            "outputs": [],
            "metadata": {}
        },
        {
            "cell_type": "markdown",
            "source": [
                "## Implement Snell's and Fresnel's equations\r\n"
            ],
            "metadata": {}
        },
        {
            "cell_type": "code",
            "execution_count": 4,
            "source": [
                "def snell_resultant(incident_ray: LightRay, material_1: Material, material_2: Material) -> LightRay:\r\n",
                "    \"\"\" Compute the refracted ray using the snells law\"\"\"\r\n",
                "\r\n",
                "    n1 = material_1.refractive_index # Refractive index of the first materia\r\n",
                "    n2 = material_2.refractive_index # Refractive index of the second material\r\n",
                "\r\n",
                "    argument = (n1/n2)*sin(radians(incident_ray.angle))\r\n",
                "\r\n",
                "    if argument <=  1:\r\n",
                "        refraction_ang = asin(argument)\r\n",
                "        resultant_ray = LightRay(2, degrees(refraction_ang))\r\n",
                "    else:\r\n",
                "        resultant_ray = LightRay(1, incident_ray.angle)\r\n",
                "\r\n",
                "    return resultant_ray\r\n",
                "\r\n",
                "    \r\n",
                "def fresnel_resultant(incident_ray: LightRay, material_1: Material, material_2: Material) -> LightRay:\r\n",
                "    \"\"\" Compute the refracted ray using the snells law\"\"\"\r\n",
                "    n1 = material_1.refractive_index # Refractive index of the first materia\r\n",
                "    n2 = material_2.refractive_index # Refractive index of the second material\r\n",
                "    \r\n",
                "    polarization = incident_ray.polarization\r\n",
                "    incicent_angle = radians(incident_ray.angle)\r\n",
                "\r\n",
                "    # using snell's law to get the transmited angle\r\n",
                "    snell_argument = n1*sin(radians(incident_ray.angle))/n2\r\n",
                "\r\n",
                "    # verify the total internal reflaction condition\r\n",
                "    if snell_argument <=  1: \r\n",
                "        refraction_ang = asin(snell_argument)\r\n",
                "        if polarization == 's':\r\n",
                "            reflectance = ((n1*cos(incicent_angle)-n2*cos(refraction_ang))/(n1*cos(incicent_angle)+n2*cos(refraction_ang)))**2\r\n",
                "        elif polarization == 'p':\r\n",
                "            reflectance = ((n1*cos(refraction_ang)-n2*cos(incicent_angle))/(n1*cos(refraction_ang)+n2*cos(incicent_angle)))**2\r\n",
                "        reflected_ray = LightRay(1, degrees(refraction_ang),'p',reflectance)\r\n",
                "        transmitted_ray = LightRay(2, degrees(refraction_ang),'p',1-reflectance)\r\n",
                "    else:\r\n",
                "        refraction_ang = incicent_angle\r\n",
                "        reflected_ray = LightRay(1, degrees(refraction_ang),'p',1)\r\n",
                "        transmitted_ray = LightRay(2, degrees(refraction_ang),'p',0)\r\n",
                "    \r\n",
                "    return reflected_ray, transmitted_ray"
            ],
            "outputs": [],
            "metadata": {}
        },
        {
            "cell_type": "markdown",
            "source": [
                "## Define a lightray experiment \r\n",
                "\r\n",
                "Plot the resultant rays for different angles and polarizations based on the snell's and fresnel's laws"
            ],
            "metadata": {}
        },
        {
            "cell_type": "code",
            "execution_count": 5,
            "source": [
                "def lightray_experiment(mode:str, incident_ray: LightRay, material_1: Material, material_2: Material) -> None:\r\n",
                "    angles = np.linspace(0.001, 90, num=10)\r\n",
                "\r\n",
                "    lightray_graph = RayGraph(15,15)\r\n",
                "    lightray_graph.ray_color = [1.0, 0.0, 0.0, 1.0]\r\n",
                "    lightray_graph.ray_alpha = 1.0\r\n",
                "\r\n",
                "    if mode == 'snell':\r\n",
                "        lightray_graph.axis.set_title('Snell analysis - {}/{}'.format(material_1.name,\r\n",
                "                                                                        material_2.name))\r\n",
                "    elif mode == 'fresnel':\r\n",
                "        lightray_graph.axis.set_title('Fresnel analysis - {}/{} \\n incident ray polarization = {}'.format(material_1.name,\r\n",
                "                                                                                                    material_2.name, \r\n",
                "                                                                                                    incident_ray.polarization))\r\n",
                "\r\n",
                "    for angle in angles:\r\n",
                "        if lightray_graph.ray_color[2] + 1/len(angles) < 1:\r\n",
                "            lightray_graph.ray_color[2] += 1/len(angles) \r\n",
                "            lightray_graph.ray_color[0] -= 1/len(angles) \r\n",
                "            incident_ray.angle = angle\r\n",
                "        if mode == 'snell':\r\n",
                "            lightray_graph.plot_snell_rays(incident_ray,material_1,material_2)\r\n",
                "        elif mode == 'fresnel':\r\n",
                "            lightray_graph.plot_fresnel_rays(incident_ray,material_1,material_2)\r\n",
                "\r\n",
                "    lightray_graph.show()\r\n",
                "\r\n",
                "def reflectance_experiment(material_1: Material, material_2: Material) -> None:\r\n",
                "    angles = np.linspace(0.001, 90, num=100)\r\n",
                "\r\n",
                "    fig, ax = plt.subplots()\r\n",
                "    ax.set_title('Fresnell reflectance analysis - {}/{}'.format(material_1.name,\r\n",
                "                                                                material_2.name))\r\n",
                "\r\n",
                "    ax.set_xlabel(\"angle (dgrees)\")\r\n",
                "    ax.set_xlim(0, 90)\r\n",
                "    p_reflectance = []\r\n",
                "    p_transmittance = []\r\n",
                "    s_reflectance = []\r\n",
                "    s_transmittance = []\r\n",
                "\r\n",
                "    incident_ray = LightRay(0, 0.001, polarization='p'\r\n",
                "    )\r\n",
                "    for angle in angles:\r\n",
                "        incident_ray.angle = angle\r\n",
                "        incident_ray.polarization = 'p'\r\n",
                "        reflected_ray, transmitted_ray = fresnel_resultant(incident_ray, material_1, material_2)\r\n",
                "        p_reflectance.append(reflected_ray.ratio)\r\n",
                "        p_transmittance.append(1-reflected_ray.ratio)\r\n",
                "\r\n",
                "        incident_ray.polarization = 's'\r\n",
                "        reflected_ray, transmitted_ray = fresnel_resultant(incident_ray, material_1, material_2)\r\n",
                "        s_reflectance.append(reflected_ray.ratio)\r\n",
                "        s_transmittance.append(1-reflected_ray.ratio)\r\n",
                "        \r\n",
                "    ax.plot(angles, p_reflectance, 'b', label='Rp')\r\n",
                "    ax.plot(angles, p_transmittance, 'r', label='Tp')\r\n",
                "    ax.plot(angles, s_reflectance, 'b--', label='Rs')\r\n",
                "    ax.plot(angles, s_transmittance, 'r--', label='Ts')\r\n",
                "    plt.legend()\r\n",
                "    plt.show()"
            ],
            "outputs": [],
            "metadata": {}
        },
        {
            "cell_type": "markdown",
            "source": [
                "### Plot the refracted ray using the snell's and fresnel's law for vacuum and water for different angles and polarizations"
            ],
            "metadata": {}
        },
        {
            "cell_type": "code",
            "execution_count": 6,
            "source": [
                "plt.close('all')\r\n",
                "\r\n",
                "material_1 = Material('vacuum', 1.0, 5.0)\r\n",
                "material_2 = Material('water', 1.33, 5.0)\r\n",
                "\r\n",
                "reflectance_experiment(material_1, material_2)\r\n",
                "\r\n",
                "\r\n",
                "incident_ray = LightRay(0, 0.001, polarization='p')\r\n",
                "lightray_experiment('snell',incident_ray, material_1, material_2)\r\n",
                "lightray_experiment('fresnel',incident_ray, material_1, material_2)\r\n",
                "\r\n",
                "incident_ray = LightRay(0, 0.001, polarization='s')\r\n",
                "lightray_experiment('fresnel',incident_ray, material_1, material_2)"
            ],
            "outputs": [
                {
                    "output_type": "display_data",
                    "data": {
                        "text/plain": [
                            "Canvas(toolbar=Toolbar(toolitems=[('Home', 'Reset original view', 'home', 'home'), ('Back', 'Back to previous …"
                        ],
                        "application/vnd.jupyter.widget-view+json": {
                            "version_major": 2,
                            "version_minor": 0,
                            "model_id": "1770fcb490e1451988802b201466556e"
                        }
                    },
                    "metadata": {}
                },
                {
                    "output_type": "display_data",
                    "data": {
                        "text/plain": [
                            "Canvas(toolbar=Toolbar(toolitems=[('Home', 'Reset original view', 'home', 'home'), ('Back', 'Back to previous …"
                        ],
                        "application/vnd.jupyter.widget-view+json": {
                            "version_major": 2,
                            "version_minor": 0,
                            "model_id": "d4f0de73e53f42d3a99ac060fc41dd67"
                        }
                    },
                    "metadata": {}
                },
                {
                    "output_type": "display_data",
                    "data": {
                        "text/plain": [
                            "Canvas(toolbar=Toolbar(toolitems=[('Home', 'Reset original view', 'home', 'home'), ('Back', 'Back to previous …"
                        ],
                        "application/vnd.jupyter.widget-view+json": {
                            "version_major": 2,
                            "version_minor": 0,
                            "model_id": "4d524704743844ae8d7956091e6946ce"
                        }
                    },
                    "metadata": {}
                },
                {
                    "output_type": "display_data",
                    "data": {
                        "text/plain": [
                            "Canvas(toolbar=Toolbar(toolitems=[('Home', 'Reset original view', 'home', 'home'), ('Back', 'Back to previous …"
                        ],
                        "application/vnd.jupyter.widget-view+json": {
                            "version_major": 2,
                            "version_minor": 0,
                            "model_id": "d918777b858b4665bd87885eb469d539"
                        }
                    },
                    "metadata": {}
                }
            ],
            "metadata": {}
        },
        {
            "cell_type": "markdown",
            "source": [
                "### Plot the refracted ray using the snell's and fresnel's law for optoc fiber and fbg for different angles and polarizations"
            ],
            "metadata": {}
        },
        {
            "cell_type": "code",
            "execution_count": 7,
            "source": [
                "material_1 = Material('optic_fiber', 1.45, 5)\r\n",
                "material_2 = Material('fbg', 1.4005, 5.0)\r\n",
                "\r\n",
                "reflectance_experiment(material_1, material_2)\r\n",
                "\r\n",
                "incident_ray = LightRay(0, 0.001, polarization='p')\r\n",
                "lightray_experiment('snell',incident_ray, material_1, material_2)\r\n",
                "lightray_experiment('fresnel',incident_ray, material_1, material_2)\r\n",
                "\r\n",
                "incident_ray = LightRay(0, 0.001, polarization='s')\r\n",
                "lightray_experiment('fresnel',incident_ray, material_1, material_2)"
            ],
            "outputs": [
                {
                    "output_type": "display_data",
                    "data": {
                        "text/plain": [
                            "Canvas(toolbar=Toolbar(toolitems=[('Home', 'Reset original view', 'home', 'home'), ('Back', 'Back to previous …"
                        ],
                        "application/vnd.jupyter.widget-view+json": {
                            "version_major": 2,
                            "version_minor": 0,
                            "model_id": "1d7a770521e8425bb7186f8eefb1327f"
                        }
                    },
                    "metadata": {}
                },
                {
                    "output_type": "display_data",
                    "data": {
                        "text/plain": [
                            "Canvas(toolbar=Toolbar(toolitems=[('Home', 'Reset original view', 'home', 'home'), ('Back', 'Back to previous …"
                        ],
                        "application/vnd.jupyter.widget-view+json": {
                            "version_major": 2,
                            "version_minor": 0,
                            "model_id": "80cbf016cf2f4b86afaa0ad41ece642f"
                        }
                    },
                    "metadata": {}
                },
                {
                    "output_type": "display_data",
                    "data": {
                        "text/plain": [
                            "Canvas(toolbar=Toolbar(toolitems=[('Home', 'Reset original view', 'home', 'home'), ('Back', 'Back to previous …"
                        ],
                        "application/vnd.jupyter.widget-view+json": {
                            "version_major": 2,
                            "version_minor": 0,
                            "model_id": "18f03c7d1c2c442ba4b76f5170447cf8"
                        }
                    },
                    "metadata": {}
                },
                {
                    "output_type": "display_data",
                    "data": {
                        "text/plain": [
                            "Canvas(toolbar=Toolbar(toolitems=[('Home', 'Reset original view', 'home', 'home'), ('Back', 'Back to previous …"
                        ],
                        "application/vnd.jupyter.widget-view+json": {
                            "version_major": 2,
                            "version_minor": 0,
                            "model_id": "90fc64c3ccff4cd5874943cbbf44084e"
                        }
                    },
                    "metadata": {}
                }
            ],
            "metadata": {}
        }
    ],
    "metadata": {
        "orig_nbformat": 4,
        "language_info": {
            "name": "python",
            "version": "3.9.6",
            "mimetype": "text/x-python",
            "codemirror_mode": {
                "name": "ipython",
                "version": 3
            },
            "pygments_lexer": "ipython3",
            "nbconvert_exporter": "python",
            "file_extension": ".py"
        },
        "kernelspec": {
            "name": "python3",
            "display_name": "Python 3.9.6 64-bit (windows store)"
        },
        "interpreter": {
            "hash": "d2e006b74b14ee14e79b2cbd817fb15e7075a0f22c1a58ed9885a84a2a84bdaf"
        }
    },
    "nbformat": 4,
    "nbformat_minor": 2
}