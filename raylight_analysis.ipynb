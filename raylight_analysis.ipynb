{
    "cells": [
        {
            "cell_type": "markdown",
            "source": [
                "# Raylight Analysys\r\n",
                "\r\n",
                "In this notebook we will study light reflaction ans refraction, using raylight analysis and the Snell and Fresnel equations."
            ],
            "metadata": {}
        },
        {
            "cell_type": "code",
            "execution_count": 1,
            "source": [
                "import math\r\n",
                "import numpy as np\r\n",
                "import matplotlib.pyplot as plt"
            ],
            "outputs": [],
            "metadata": {}
        },
        {
            "cell_type": "markdown",
            "source": [
                "## Create a the a raylight graph class"
            ],
            "metadata": {}
        },
        {
            "cell_type": "code",
            "execution_count": 2,
            "source": [
                "class Raylight:\r\n",
                "    \"\"\"Defines a raylight vecto\"\"\"\r\n",
                "    def __init__(self, r_type:int, angle_deg:int): \r\n",
                "        \"\"\" Intialize a raylight vector\r\n",
                "\r\n",
                "            Args:\r\n",
                "                type: int\r\n",
                "                    Ray r_type -> 0 = Inciddent, 1 = Reflected and 2 = Refracted\r\n",
                "                angle: float\r\n",
                "                    Angle from the normal in degrees\r\n",
                "            \r\n",
                "            Returns: Raylight object\r\n",
                "        \"\"\"\r\n",
                "        self.type = r_type\r\n",
                "        self.angle = angle_deg\r\n",
                "        self.polarization = 'p'\r\n",
                "\r\n",
                "\r\n",
                "class Material:\r\n",
                "    \"\"\"Material with properties related to light interaction\"\"\"\r\n",
                "    \r\n",
                "    def __init__(self, name:str,  refractive_index:str, thickness_mm:float):\r\n",
                "        \"\"\" Intialize a Material\r\n",
                "\r\n",
                "            Args:\r\n",
                "                type: int\r\n",
                "                    Ray r_type -> 0 = Inciddent, 1 = Reflected and 2 = Refracted\r\n",
                "                angle: float\r\n",
                "                    Angle from the normal in degrees\r\n",
                "            \r\n",
                "            Returns: Material object\r\n",
                "        \"\"\"\r\n",
                "        self.name = name\r\n",
                "        self.refractive_index = refractive_index\r\n",
                "        self.thickness = thickness_mm\r\n",
                "\r\n",
                "\r\n",
                "class RaylightGraph:\r\n",
                "    \"\"\" Raylight graph for multiple interfaces\"\"\"\r\n",
                "\r\n",
                "    def __init__(self):\r\n",
                "        self.figure, self.axis = plt.subplots()\r\n",
                "    \r\n",
                "    def __init__(self, hight: int, width: int):\r\n",
                "        self.figure, self.axis = plt.subplots()\r\n",
                "        self.axis.set_ylim(-hight, 0.1*hight)\r\n",
                "        self.axis.set_xlim(-width//2, width//2)\r\n",
                "\r\n",
                "    def plot_vector(self, vector:list = [(0, 0),(0, 0)]):\r\n",
                "        a = vector[0]\r\n",
                "        b = vector[1]\r\n",
                "        dx = b[0] - a[0]\r\n",
                "        dy = b[1] - a[1]\r\n",
                "\r\n",
                "        vec_ab_magnitude = math.sqrt(dx**2+dy**2)\r\n",
                "        head_length = vec_ab_magnitude * 0.05\r\n",
                "\r\n",
                "        dx = dx / vec_ab_magnitude\r\n",
                "        dy = dy / vec_ab_magnitude\r\n",
                "\r\n",
                "        vec_ab_magnitude = vec_ab_magnitude - head_length\r\n",
                "\r\n",
                "        self.axis.arrow(a[0], a[1], vec_ab_magnitude*dx, vec_ab_magnitude*dy, \r\n",
                "                        head_width=0.5*head_length, head_length=head_length, \r\n",
                "                        color='blue')\r\n",
                "        \r\n",
                "        \r\n",
                "    def show(self):\r\n",
                "        plt.show()\r\n"
            ],
            "outputs": [],
            "metadata": {}
        },
        {
            "cell_type": "code",
            "execution_count": 3,
            "source": [
                "rayligh_graph = RaylightGraph(5,5)\r\n",
                "\r\n",
                "rayligh_graph.plot_vector([(-1, 1),(0, 0)])\r\n",
                "rayligh_graph.show()"
            ],
            "outputs": [
                {
                    "output_type": "display_data",
                    "data": {
                        "text/plain": [
                            "<Figure size 432x288 with 1 Axes>"
                        ],
                        "image/png": "[encoded data removed]"
                    },
                    "metadata": {
                        "needs_background": "light"
                    }
                }
            ],
            "metadata": {}
        }
    ],
    "metadata": {
        "orig_nbformat": 4,
        "language_info": {
            "name": "python",
            "version": "3.9.6",
            "mimetype": "text/x-python",
            "codemirror_mode": {
                "name": "ipython",
                "version": 3
            },
            "pygments_lexer": "ipython3",
            "nbconvert_exporter": "python",
            "file_extension": ".py"
        },
        "kernelspec": {
            "name": "python3",
            "display_name": "Python 3.9.6 64-bit (windows store)"
        },
        "interpreter": {
            "hash": "d2e006b74b14ee14e79b2cbd817fb15e7075a0f22c1a58ed9885a84a2a84bdaf"
        }
    },
    "nbformat": 4,
    "nbformat_minor": 2
}