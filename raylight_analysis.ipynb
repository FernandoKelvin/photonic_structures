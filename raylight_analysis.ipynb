{
    "cells": [
        {
            "cell_type": "markdown",
            "source": [
                "# LightRay Analysys\r\n",
                "\r\n",
                "In this notebook we will study light reflaction ans refraction, using LightRay analysis and the Snell and Fresnel equations."
            ],
            "metadata": {}
        },
        {
            "cell_type": "code",
            "execution_count": 64,
            "source": [
                "!pip install numpy\r\n",
                "!pip install ipympl\r\n",
                "!pip install matplotlib"
            ],
            "outputs": [],
            "metadata": {}
        },
        {
            "cell_type": "code",
            "execution_count": 73,
            "source": [
                "%matplotlib widget\r\n",
                "from math import *\r\n",
                "import numpy as np\r\n",
                "import matplotlib.pyplot as plt\r\n"
            ],
            "outputs": [],
            "metadata": {}
        },
        {
            "cell_type": "markdown",
            "source": [
                "## Create a the a LightRay graph class"
            ],
            "metadata": {}
        },
        {
            "cell_type": "code",
            "execution_count": 70,
            "source": [
                "class LightRay:\r\n",
                "    \"\"\"Defines a LightRay vecto\"\"\"\r\n",
                "    def __init__(self, r_type:int, angle_deg:int): \r\n",
                "        \"\"\" Intialize a LightRay vector\r\n",
                "\r\n",
                "            Args:\r\n",
                "                type: int\r\n",
                "                    Ray r_type -> 0 = Inciddent, 1 = Reflected and 2 = Refracted\r\n",
                "                angle: float\r\n",
                "                    Angle from the normal in degrees\r\n",
                "            \r\n",
                "            Returns: LightRay object\r\n",
                "        \"\"\"\r\n",
                "        self.type = r_type\r\n",
                "        self.angle = angle_deg\r\n",
                "        self.polarization = 'p'\r\n",
                "\r\n",
                "\r\n",
                "class Material:\r\n",
                "    \"\"\"Material with properties related to light interaction\"\"\"\r\n",
                "    \r\n",
                "    def __init__(self, name:str,  refractive_index:str, thickness_mm:float):\r\n",
                "        \"\"\" Intialize a Material\r\n",
                "\r\n",
                "            Args:\r\n",
                "                name: str\r\n",
                "                refractive_index: float\r\n",
                "                thickness_mm: float\r\n",
                "            \r\n",
                "            Returns: Material object\r\n",
                "        \"\"\"\r\n",
                "        self.name = name\r\n",
                "        self.refractive_index = refractive_index\r\n",
                "        self.thickness = thickness_mm\r\n",
                "\r\n",
                "\r\n",
                "class RayGraph:\r\n",
                "    ''' LightRay graph for multiple interfaces'''\r\n",
                "\r\n",
                "    # def __init__(self):\r\n",
                "    #     self.figure, self.axis = plt.subplots()\r\n",
                "    \r\n",
                "    def __init__(self, hight: int, width: int):\r\n",
                "        self.figure, self.axis = plt.subplots()\r\n",
                "        self.figure.suptitle(\"LightRay Graph\")\r\n",
                "        self.axis.set_ylim(-hight//2, hight//2)\r\n",
                "        self.axis.set_xlim(-width//2, width//2)\r\n",
                "\r\n",
                "        self.axis.plot([-width//2, width//2], [0, 0], color='gray', linestyle='dashed')\r\n",
                "        self.axis.plot([0, 0], [-width//2, width//2], color='green', linestyle='dashed')\r\n",
                "\r\n",
                "    def plot_vector(self, vector:list = [(0, 0),(0, 0)]):\r\n",
                "        a = vector[0]\r\n",
                "        b = vector[1]\r\n",
                "        dx = b[0] - a[0]\r\n",
                "        dy = b[1] - a[1]\r\n",
                "\r\n",
                "        magnitude = sqrt(dx**2+dy**2)\r\n",
                "        # head_length = magnitude * 0.05\r\n",
                "        head_length = 0.5\r\n",
                "\r\n",
                "        dx = dx / magnitude\r\n",
                "        dy = dy / magnitude\r\n",
                "\r\n",
                "        magnitude = magnitude - head_length\r\n",
                "\r\n",
                "        self.axis.arrow(a[0], a[1], magnitude*dx, magnitude*dy, \r\n",
                "                        head_width=head_length, head_length=head_length, \r\n",
                "                        color='blue')\r\n",
                "    \r\n",
                "    def plot_snell_refraction(self, incident_ray: LightRay, material_1: Material, material_2: Material):\r\n",
                "        \r\n",
                "        incident_x_start = -tan(radians(incident_ray.angle))*material_1.thickness\r\n",
                "        incident_y_start = material_1.thickness\r\n",
                "        incident_x_end = 0\r\n",
                "        incident_y_end = 0\r\n",
                "\r\n",
                "        self.plot_vector([(incident_x_start,incident_y_start),\r\n",
                "                          (incident_x_end,incident_y_end)])\r\n",
                "\r\n",
                "        refracted_ray = snell_analisys(incident_ray, material_1, material_2)\r\n",
                "        refracted_x_start = 0\r\n",
                "        refracted_y_start = 0\r\n",
                "        refracted_x_end = tan(radians(refracted_ray.angle))*material_2.thickness\r\n",
                "        refracted_y_end = -material_2.thickness\r\n",
                "\r\n",
                "        self.plot_vector([(refracted_x_start,refracted_y_start),\r\n",
                "                          (refracted_x_end,refracted_y_end)])\r\n",
                "\r\n",
                "        \r\n",
                "    def show(self):\r\n",
                "        plt.show()"
            ],
            "outputs": [],
            "metadata": {}
        },
        {
            "cell_type": "markdown",
            "source": [
                "## Snells Law\r\n",
                "\r\n",
                "n2 * sin(teta_2) = n1 * sin(teta_1)"
            ],
            "metadata": {}
        },
        {
            "cell_type": "code",
            "execution_count": 71,
            "source": [
                "def snell_analisys(incident_ray: LightRay, material_1: Material, material_2: Material) -> LightRay:\r\n",
                "    \"\"\" Calculate the refracted ray using the snells law\"\"\"\r\n",
                "\r\n",
                "    n1 = material_1.refractive_index # Refractive index of the first materia\r\n",
                "    n2 = material_2.refractive_index # Refractive index of the second material\r\n",
                "    refraction_ang = asin(n1*sin(radians(incident_ray.angle))/n2)\r\n",
                "\r\n",
                "    refracted_ray = LightRay(2, degrees(refraction_ang))\r\n",
                "\r\n",
                "    return refracted_ray"
            ],
            "outputs": [],
            "metadata": {}
        },
        {
            "cell_type": "code",
            "execution_count": 72,
            "source": [
                "material_1 = Material('vacuum', 1.0, 5.0)\r\n",
                "material_2 = Material('water', 1.33, 5.0)\r\n",
                "\r\n",
                "angles = [0.001, 10, 30, 45, 60, 90]\r\n",
                "\r\n",
                "rayligh_graph = RayGraph(15,15)\r\n",
                "\r\n",
                "for angle in angles:\r\n",
                "    incident_ray = LightRay(0, angle)\r\n",
                "    rayligh_graph.plot_snell_refraction(incident_ray,material_1,material_2)\r\n",
                "\r\n",
                "rayligh_graph.show()"
            ],
            "outputs": [
                {
                    "output_type": "display_data",
                    "data": {
                        "text/plain": [
                            "Canvas(toolbar=Toolbar(toolitems=[('Home', 'Reset original view', 'home', 'home'), ('Back', 'Back to previous …"
                        ],
                        "application/vnd.jupyter.widget-view+json": {
                            "version_major": 2,
                            "version_minor": 0,
                            "model_id": "486d21d063254c7fb4c41e65900dc1fa"
                        }
                    },
                    "metadata": {}
                }
            ],
            "metadata": {}
        }
    ],
    "metadata": {
        "orig_nbformat": 4,
        "language_info": {
            "name": "python",
            "version": "3.9.6",
            "mimetype": "text/x-python",
            "codemirror_mode": {
                "name": "ipython",
                "version": 3
            },
            "pygments_lexer": "ipython3",
            "nbconvert_exporter": "python",
            "file_extension": ".py"
        },
        "kernelspec": {
            "name": "python3",
            "display_name": "Python 3.9.6 64-bit (windows store)"
        },
        "interpreter": {
            "hash": "d2e006b74b14ee14e79b2cbd817fb15e7075a0f22c1a58ed9885a84a2a84bdaf"
        }
    },
    "nbformat": 4,
    "nbformat_minor": 2
}