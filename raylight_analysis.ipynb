{
    "cells": [
        {
            "cell_type": "markdown",
            "source": [
                "# LightRay Analysys\r\n",
                "\r\n",
                "## Author: Fernando kelvin da Silva Soares\r\n",
                "\r\n",
                "In this notebook we will study light reflaction ans refraction, using LightRay analysis and the Snell and Fresnel equations."
            ],
            "metadata": {}
        },
        {
            "cell_type": "code",
            "execution_count": 1,
            "source": [
                "# !pip install numpy\r\n",
                "# !pip install ipympl\r\n",
                "# !pip install matplotlib"
            ],
            "outputs": [],
            "metadata": {}
        },
        {
            "cell_type": "code",
            "execution_count": 2,
            "source": [
                "from math import *\r\n",
                "import numpy as np\r\n",
                "import matplotlib.pyplot as plt\r\n",
                "from matplotlib import colors, cm\r\n",
                "from mpl_toolkits.axes_grid1.inset_locator import inset_axes\r\n",
                "\r\n",
                "if 'google.colab' in str(get_ipython()):\r\n",
                "  %matplotlib inline\r\n",
                "else:\r\n",
                "  %matplotlib widget"
            ],
            "outputs": [],
            "metadata": {}
        },
        {
            "cell_type": "markdown",
            "source": [
                "## Create a LightRay, Material and graph class"
            ],
            "metadata": {}
        },
        {
            "cell_type": "code",
            "execution_count": 3,
            "source": [
                "class LightRay:\r\n",
                "    \"\"\"Defines a LightRay\"\"\"\r\n",
                "    def __init__(self, r_type:int, angle_deg:int, polarization:str='p', ratio:int=1) -> None: \r\n",
                "        \"\"\" Intialize a LightRay vector\r\n",
                "\r\n",
                "            Args:\r\n",
                "                r_type: Type of the ray. 0 = Inciddent, 1 = Reflected and 2 = Refracted\r\n",
                "                angle: Angle from the normal in degrees\r\n",
                "        \"\"\"\r\n",
                "        self.type = r_type\r\n",
                "        self.angle = angle_deg\r\n",
                "        self.polarization = polarization\r\n",
                "        self.ratio = ratio\r\n",
                "        self.power = 1\r\n",
                "        self.reflectance= None\r\n",
                "        self.transmittance= None\r\n",
                "        self.layer = None\r\n",
                "        self.phase = None\r\n",
                "        self.frequency = None\r\n",
                "        self.wavelength = None\r\n",
                "        self.iteration = None\r\n",
                "        self.start_coordinates = None  # (start_x, start_y)\r\n",
                "        self.end_coordinates = None    # (end_x, end_y)\r\n",
                "        \r\n",
                "\r\n",
                "class Material:\r\n",
                "    \"\"\"Material with properties related to light interaction\"\"\"\r\n",
                "    \r\n",
                "    def __init__(self, name:str,  refractive_index:str, thickness:float) -> None:\r\n",
                "        \"\"\" Intialize a Material\r\n",
                "\r\n",
                "            Args:\r\n",
                "                name: Name of the material\r\n",
                "                refractive_index: Index of refraction\r\n",
                "                thickness: Material thickness in micro meters\r\n",
                "        \"\"\"\r\n",
                "        self.name = name\r\n",
                "        self.refractive_index = refractive_index\r\n",
                "        self.thickness = thickness\r\n",
                "\r\n",
                "\r\n",
                "class RayGraph:\r\n",
                "    ''' LightRay graph for multiple interfaces'''\r\n",
                "\r\n",
                "    def __init__(self, material_1: Material, material_2: Material, number_of_interfaces:int=1):\r\n",
                "\r\n",
                "        bigger_thickness = material_1.thickness if material_1.thickness > material_2.thickness else material_2.thickness\r\n",
                "        hight = bigger_thickness*(number_of_interfaces+2)\r\n",
                "        print(\"hight\".format(hight))\r\n",
                "        width = bigger_thickness*(number_of_interfaces*2+2)\r\n",
                "        self.figure, self.axis = plt.subplots()\r\n",
                "        self.axis.set_ylim(-hight, bigger_thickness*2)\r\n",
                "        self.axis.set_xlim(-width//2, width//2)\r\n",
                "        self.axis.set_ylabel('hight ($\\mu$m)')\r\n",
                "        self.axis.set_xlabel('width ($\\mu$m)')\r\n",
                "\r\n",
                "        interface_y_coord = [0,0] \r\n",
                "        for interface_number in range(number_of_interfaces):\r\n",
                "            interface = self.axis.plot([-width//2, width//2], interface_y_coord, \r\n",
                "                                        color='gray', linestyle='dashed', alpha= 0.5, label= 'interface')\r\n",
                "            if interface_number//2 == 0:\r\n",
                "                add_y = material_1.thickness\r\n",
                "            else:\r\n",
                "                add_y = material_2.thickness\r\n",
                "            interface_y_coord = [interface_y_coord[0]-add_y, interface_y_coord[0]-add_y]\r\n",
                "            \r\n",
                "        normal = self.axis.plot([0, 0], [-width//2, width//2], \r\n",
                "                                color='yellow', linestyle='dashed', alpha= 0.5, label='normal')\r\n",
                "\r\n",
                "        self.ray_color='blue'\r\n",
                "        self.ray_alpha=0.1\r\n",
                "\r\n",
                "    def plot_vector(self, vector: list = [(0, 0),(0, 0)], head_length: float=0.0) -> None:\r\n",
                "        \"\"\" Plot a vector based on the start and end point\r\n",
                "            \r\n",
                "            Args: \r\n",
                "                vector: Vector coordinates pair, [(start_x, start_y), (end_x, end_y)].\r\n",
                "                head_length: Length of the head of the arrow, that represents the vector.\r\n",
                "            \"\"\"\r\n",
                "        a = vector[0]\r\n",
                "        b = vector[1]\r\n",
                "        dx = b[0] - a[0]\r\n",
                "        dy = b[1] - a[1]\r\n",
                "\r\n",
                "        magnitude = sqrt(dx**2+dy**2)\r\n",
                "\r\n",
                "        dx = dx / magnitude\r\n",
                "        dy = dy / magnitude\r\n",
                "\r\n",
                "        magnitude = magnitude - head_length\r\n",
                "\r\n",
                "        self.axis.arrow(a[0], a[1], magnitude*dx, magnitude*dy, \r\n",
                "                        head_width=head_length, head_length=head_length, \r\n",
                "                        color=self.ray_color,alpha=self.ray_alpha)\r\n",
                "    \r\n",
                "    def plot_snell_rays(self, incident_ray: LightRay, material_1: Material, material_2: Material) -> None:\r\n",
                "        \"\"\"Plot the refracted ray for a 2 material interface based on the snell law\"\"\"\r\n",
                "\r\n",
                "        incident_x_start = -tan(radians(incident_ray.angle))*material_1.thickness\r\n",
                "        incident_y_start = material_1.thickness\r\n",
                "        incident_x_end = 0\r\n",
                "        incident_y_end = 0\r\n",
                "\r\n",
                "        self.plot_vector([(incident_x_start,incident_y_start),\r\n",
                "                          (incident_x_end,incident_y_end)], 0.1)\r\n",
                "\r\n",
                "        resultant_ray = snell_resultant(incident_ray, material_1, material_2)\r\n",
                "\r\n",
                "        resultant_x_start = 0\r\n",
                "        resultant_y_start = 0\r\n",
                "\r\n",
                "        if resultant_ray.type == 1: # Total internal reflection ray\r\n",
                "            resultant_x_end = tan(radians(resultant_ray.angle))*material_1.thickness\r\n",
                "            resultant_y_end = material_1.thickness\r\n",
                "        elif resultant_ray.type == 2: # Refracted ray\r\n",
                "            resultant_x_end = tan(radians(resultant_ray.angle))*material_2.thickness\r\n",
                "            resultant_y_end = -material_2.thickness\r\n",
                "    \r\n",
                "        self.plot_vector([(resultant_x_start,resultant_y_start),\r\n",
                "                        (resultant_x_end,resultant_y_end)], 0.1)\r\n",
                "    \r\n",
                "    def plot_fresnel_rays(self, incident_ray: LightRay, material_1: Material, material_2: Material, interface:int=0) -> None:\r\n",
                "        \"\"\"Plot the refracted ray for a 2 material interface based on the snell law\"\"\"\r\n",
                "        \r\n",
                "        offset = interface // 2 * material_1.thickness\r\n",
                "        if interface % 2 == 0:    \r\n",
                "            offset += interface // 2 * material_2.thickness\r\n",
                "            incident_material_thickness = material_1.thickness\r\n",
                "        else:\r\n",
                "            offset += (interface // 2 + 1) * material_2.thickness\r\n",
                "            incident_material_thickness = material_2.thickness\r\n",
                "        \r\n",
                "        incident_x_start = -tan(radians(incident_ray.angle))*incident_material_thickness\r\n",
                "        incident_y_start = -offset + incident_material_thickness\r\n",
                "        incident_x_end = 0\r\n",
                "        incident_y_end = -offset\r\n",
                "        \r\n",
                "        self.ray_alpha = 1\r\n",
                "        self.plot_vector([(incident_x_start,incident_y_start),\r\n",
                "                          (incident_x_end,incident_y_end)], 0.1)\r\n",
                "\r\n",
                "        reflected_ray, transmitted_ray = fresnel_resultant(incident_ray, material_1, material_2)\r\n",
                "            \r\n",
                "        reflected_x_start = 0\r\n",
                "        reflected_y_start = -offset\r\n",
                "        reflected_x_end = tan(radians(reflected_ray.angle))*material_1.thickness\r\n",
                "        reflected_y_end = -offset + material_1.thickness\r\n",
                "        \r\n",
                "        self.ray_alpha = reflected_ray.ratio*10 if reflected_ray.ratio*10 <= 1 else 1\r\n",
                "        self.plot_vector([(reflected_x_start,reflected_y_start),\r\n",
                "                        (reflected_x_end,reflected_y_end)], 0.1)\r\n",
                "\r\n",
                "        transmitted_x_start = 0\r\n",
                "        transmitted_y_start = -offset\r\n",
                "        transmitted_x_end = tan(radians(transmitted_ray.angle))*material_2.thickness\r\n",
                "        transmitted_y_end = -offset -material_2.thickness\r\n",
                "\r\n",
                "        self.ray_alpha = transmitted_ray.ratio*10 if transmitted_ray.ratio*10 <= 1 else 1\r\n",
                "        # print(\"angle: {} R: {} T: {}\".format(reflected_ray.angle, reflected_ray.ratio, transmitted_ray.ratio))\r\n",
                "        self.plot_vector([(transmitted_x_start,transmitted_y_start),\r\n",
                "                        (transmitted_x_end,transmitted_y_end)], 0.1)\r\n",
                "\r\n",
                "    def show(self) -> None:\r\n",
                "        plt.show()"
            ],
            "outputs": [],
            "metadata": {}
        },
        {
            "cell_type": "markdown",
            "source": [
                "## Implement Snell's and Fresnel's equations\r\n"
            ],
            "metadata": {}
        },
        {
            "cell_type": "code",
            "execution_count": 4,
            "source": [
                "def snell_resultant(incident_ray: LightRay, material_1: Material, material_2: Material) -> LightRay:\r\n",
                "    \"\"\" Compute the refracted ray using the snells law\"\"\"\r\n",
                "\r\n",
                "    n1 = material_1.refractive_index # Refractive index of the first material\r\n",
                "    n2 = material_2.refractive_index # Refractive index of the second material\r\n",
                "\r\n",
                "    incident_angle = radians(incident_ray.angle)\r\n",
                "\r\n",
                "    # using snell's law to get the transmitted angle\r\n",
                "    snell_argument = n1*sin(radians(incident_ray.angle))/n2\r\n",
                "\r\n",
                "    # verify the total internal reflaction condition\r\n",
                "    if snell_argument <=  1: \r\n",
                "        transmission_ang = asin(snell_argument)\r\n",
                "        resultant_ray = LightRay(2, degrees(transmission_ang))\r\n",
                "    else:\r\n",
                "        resultant_ray = LightRay(1, degrees(incident_angle))\r\n",
                "\r\n",
                "    return resultant_ray\r\n",
                "\r\n",
                "\r\n",
                "def fresnel_resultant(incident_ray: LightRay, material_1: Material, material_2: Material) -> LightRay:\r\n",
                "    \"\"\" Compute the refracted ray using the snells law\"\"\"\r\n",
                "    n1 = material_1.refractive_index # Refractive index of the first material\r\n",
                "    n2 = material_2.refractive_index # Refractive index of the second material\r\n",
                "    \r\n",
                "    polarization = incident_ray.polarization\r\n",
                "    incident_angle = radians(incident_ray.angle)\r\n",
                "\r\n",
                "    # using snell's law to get the transmitted angle\r\n",
                "    snell_argument = n1/n2*sin(radians(incident_ray.angle))\r\n",
                "\r\n",
                "    # verify the total internal reflaction condition\r\n",
                "    if snell_argument <=  1: \r\n",
                "        transmission_ang = asin(snell_argument)\r\n",
                "        if polarization == 's':\r\n",
                "            reflectance = ((n1*cos(incident_angle)-n2*cos(transmission_ang))/(n1*cos(incident_angle)+n2*cos(transmission_ang)))**2\r\n",
                "        elif polarization == 'p':\r\n",
                "            reflectance = ((-n1*cos(transmission_ang)+n2*cos(incident_angle))/(n1*cos(transmission_ang)+n2*cos(incident_angle)))**2\r\n",
                "        reflected_ray = LightRay(1, degrees(incident_angle), polarization, reflectance)\r\n",
                "        transmitted_ray = LightRay(2, degrees(transmission_ang), polarization, 1-reflectance)\r\n",
                "    else:\r\n",
                "        transmission_ang = incident_angle\r\n",
                "        reflected_ray = LightRay(1, degrees(incident_angle), polarization, 1)\r\n",
                "        transmitted_ray = LightRay(2, degrees(transmission_ang), polarization, 0)\r\n",
                "\r\n",
                "    # check the propagation direction of the ray\r\n",
                "    if incident_ray.start_coordinates[1] > incident_ray.end_coordinates[1]:\r\n",
                "        direction = 1 # downwards direction\r\n",
                "    else: \r\n",
                "        direction = -1 # upwards direction\r\n",
                "\r\n",
                "    # calculate the coordinates for the reflected and transmitted rays\r\n",
                "    offset_x, offset_y = incident_ray.end_coordinates\r\n",
                "    reflected_x_start = offset_x\r\n",
                "    reflected_y_start = offset_y\r\n",
                "    reflected_x_end = offset_x + tan(radians(reflected_ray.angle))*material_1.thickness\r\n",
                "    reflected_y_end = offset_y + direction*material_1.thickness\r\n",
                "    \r\n",
                "    reflected_ray.start_coordinates = (reflected_x_start, reflected_y_start)\r\n",
                "    reflected_ray.end_coordinates = (reflected_x_end, reflected_y_end)\r\n",
                "\r\n",
                "    transmitted_x_start = offset_x\r\n",
                "    transmitted_y_start = offset_y\r\n",
                "    transmitted_x_end = offset_x + tan(radians(transmitted_ray.angle))*material_2.thickness\r\n",
                "    transmitted_y_end = offset_y -direction*material_2.thickness\r\n",
                "\r\n",
                "    transmitted_ray.start_coordinates = (transmitted_x_start, transmitted_y_start)\r\n",
                "    transmitted_ray.end_coordinates = (transmitted_x_end, transmitted_y_end)\r\n",
                "    \r\n",
                "    return reflected_ray, transmitted_ray"
            ],
            "outputs": [],
            "metadata": {}
        },
        {
            "cell_type": "markdown",
            "source": [
                "## Define a Lightray Exeriment \r\n",
                "\r\n",
                "Plot the resultant rays for different angles and polarizations based on the snell's and fresnel's laws"
            ],
            "metadata": {}
        },
        {
            "cell_type": "code",
            "execution_count": 5,
            "source": [
                "def lightray_experiment(mode:str, incident_ray: LightRay, \r\n",
                "                                material_1: Material, material_2: Material, \r\n",
                "                                angle_range:tuple=(0.001, 90),\r\n",
                "                                angle_steps:int=30) -> None:\r\n",
                "    angles = np.linspace(angle_range[0], angle_range[1], num=angle_steps)\r\n",
                "\r\n",
                "    lightray_graph = RayGraph(material_1, material_2,1)\r\n",
                "    lightray_graph.ray_color = [1.0, 0.0, 0.0, 1.0]\r\n",
                "    lightray_graph.ray_alpha = 1.0\r\n",
                "\r\n",
                "    incident_ray = LightRay(0, 0.001, polarization='p')\r\n",
                "    incident_x_start = -tan(radians(incident_ray.angle))*material_1.thickness\r\n",
                "    incident_y_start = material_1.thickness\r\n",
                "    incident_x_end = 0\r\n",
                "    incident_y_end = 0\r\n",
                "\r\n",
                "    incident_ray.start_coordinates = (incident_x_start, incident_y_start)\r\n",
                "    incident_ray.end_coordinates = (incident_x_end, incident_y_end)\r\n",
                "\r\n",
                "    if mode == 'snell':\r\n",
                "        lightray_graph.axis.set_title('Snell analysis - {}/{}'.format(material_1.name,\r\n",
                "                                                                        material_2.name))\r\n",
                "    elif mode == 'fresnel':\r\n",
                "        lightray_graph.axis.set_title('Fresnel analysis - {}/{} \\n incident ray polarization = {}'.format(material_1.name,\r\n",
                "                                                                                                    material_2.name, \r\n",
                "                                                                                                    incident_ray.polarization))\r\n",
                "\r\n",
                "    for angle in angles:\r\n",
                "        if lightray_graph.ray_color[2] + 1/len(angles) < 1:\r\n",
                "            lightray_graph.ray_color[2] += 1/len(angles) \r\n",
                "            lightray_graph.ray_color[0] -= 1/len(angles) \r\n",
                "        incident_ray.angle = angle\r\n",
                "        if mode == 'snell':\r\n",
                "            lightray_graph.plot_snell_rays(incident_ray,material_1,material_2)\r\n",
                "        elif mode == 'fresnel':\r\n",
                "            lightray_graph.plot_fresnel_rays(incident_ray,material_1,material_2)\r\n",
                "\r\n",
                "    norm = colors.Normalize(vmin=int(angle_range[0]), vmax=int(angle_range[1]))\r\n",
                "    cmap = cm.ScalarMappable(norm=norm, cmap=colors.LinearSegmentedColormap.from_list('mycolors',['red','blue']))\r\n",
                "    cmap.set_array([])\r\n",
                "    lightray_graph.figure.colorbar(cmap, shrink=0.8,label='angle of incidence (degrees)',\r\n",
                "                                    ticks=np.linspace(int(angle_range[0]), int(angle_range[1]), num=2))                           \r\n",
                "\r\n",
                "    lightray_graph.show()"
            ],
            "outputs": [],
            "metadata": {}
        },
        {
            "cell_type": "markdown",
            "source": [
                "## Reflectance Experiment"
            ],
            "metadata": {}
        },
        {
            "cell_type": "code",
            "execution_count": 6,
            "source": [
                "def reflectance_experiment(material_1: Material, material_2: Material) -> None:\r\n",
                "    angles = np.linspace(0.001, 90, num=100)\r\n",
                "\r\n",
                "    fig, ax = plt.subplots()\r\n",
                "    ax.set_title('Fresnell reflectance analysis - {}/{}'.format(material_1.name,\r\n",
                "                                                                material_2.name))\r\n",
                "\r\n",
                "    ax.set_xlabel(\"angle (dgrees)\")\r\n",
                "    ax.set_xlim(0, 90)\r\n",
                "    \r\n",
                "    p_reflectance = []\r\n",
                "    p_transmittance = []\r\n",
                "    s_reflectance = []\r\n",
                "    s_transmittance = []\r\n",
                "\r\n",
                "    incident_ray = LightRay(0, 0.001, polarization='p')\r\n",
                "    incident_x_start = -tan(radians(incident_ray.angle))*material_1.thickness\r\n",
                "    incident_y_start = material_1.thickness\r\n",
                "    incident_x_end = 0\r\n",
                "    incident_y_end = 0\r\n",
                "\r\n",
                "    incident_ray.start_coordinates = (incident_x_start, incident_y_start)\r\n",
                "    incident_ray.end_coordinates = (incident_x_end, incident_y_end)\r\n",
                "    current_ray = incident_ray\r\n",
                "\r\n",
                "    for angle in angles:\r\n",
                "        incident_ray.angle = angle\r\n",
                "        incident_ray.polarization = 'p'\r\n",
                "        reflected_ray, transmitted_ray = fresnel_resultant(incident_ray, material_1, material_2)\r\n",
                "        p_reflectance.append(reflected_ray.ratio)\r\n",
                "        p_transmittance.append(transmitted_ray.ratio)\r\n",
                "\r\n",
                "        incident_ray.polarization = 's'\r\n",
                "        reflected_ray, transmitted_ray = fresnel_resultant(incident_ray, material_1, material_2)\r\n",
                "        s_reflectance.append(reflected_ray.ratio)\r\n",
                "        s_transmittance.append(transmitted_ray.ratio)\r\n",
                "\r\n",
                "    ax.plot(angles, p_reflectance, 'b', label='Rp')\r\n",
                "    ax.plot(angles, p_transmittance, 'r', label='Tp')\r\n",
                "    ax.plot(angles, s_reflectance, 'b--', label='Rs')\r\n",
                "    ax.plot(angles, s_transmittance, 'r--', label='Ts')\r\n",
                "    \r\n",
                "    plt.legend()\r\n",
                "    plt.show()"
            ],
            "outputs": [],
            "metadata": {}
        },
        {
            "cell_type": "markdown",
            "source": [
                "### Cration of an experiment to se transmission power decay in periodic structures\r\n",
                "\r\n"
            ],
            "metadata": {}
        },
        {
            "cell_type": "code",
            "execution_count": 7,
            "source": [
                "def periodic_experiment(incident_ray: LightRay, material_1: Material,\r\n",
                "                         material_2: Material, number_of_interfaces:int) -> None:\r\n",
                "                         \r\n",
                "    angles = np.linspace(0.001, 90, num=100)\r\n",
                "\r\n",
                "    incident_x_start = -tan(radians(incident_ray.angle))*material_1.thickness\r\n",
                "    incident_y_start = material_1.thickness\r\n",
                "    incident_x_end = 0\r\n",
                "    incident_y_end = 0\r\n",
                "\r\n",
                "    incident_ray.start_coordinates = (incident_x_start, incident_y_start)\r\n",
                "    incident_ray.end_coordinates = (incident_x_end, incident_y_end)\r\n",
                "    current_ray = incident_ray\r\n",
                "\r\n",
                "    current_ray = incident_ray\r\n",
                "    ray_power = [1]\r\n",
                "    for interface in range(number_of_interfaces):\r\n",
                "        if interface % 2 == 1: # Check if it is an odd interface\r\n",
                "            reflected_ray, transmitted_ray = fresnel_resultant(current_ray, material_1, material_2)\r\n",
                "        else:\r\n",
                "            reflected_ray, transmitted_ray = fresnel_resultant(current_ray, material_2, material_1)\r\n",
                "        current_ray = transmitted_ray\r\n",
                "        ray_power.append(ray_power[-1]*transmitted_ray.ratio)\r\n",
                "\r\n",
                "    fig, ax = plt.subplots()\r\n",
                "    ax.set_title('Power transmission trught {} interfaces - {}/{}\\n'.format(number_of_interfaces,\r\n",
                "                                                                                material_1.name,\r\n",
                "                                                                                material_2.name))\r\n",
                "\r\n",
                "    ax.set_xlabel(\"interfaces\")\r\n",
                "    ax.set_xlim(0, number_of_interfaces)\r\n",
                "    ax.set_ylabel(\"relative power\")\r\n",
                "    plt.yticks(np.arange(-0.1, 1.1, 0.1))\r\n",
                "    ax.set_ylim(-0.1, 1.1)\r\n",
                "\r\n",
                "    ax.plot(ray_power, 'r', label='{}$^\\circ$'.format(incident_ray.angle))\r\n",
                "    ax.axhline(y=ray_power[-1], color='black', linestyle='--')\r\n",
                "    \r\n",
                "    plt.legend()\r\n",
                "    plt.show()\r\n",
                "\r\n"
            ],
            "outputs": [],
            "metadata": {}
        },
        {
            "cell_type": "markdown",
            "source": [
                "### Plot the refracted ray using the snell's and fresnel's law for vacuum and water for different angles and polarizations"
            ],
            "metadata": {}
        },
        {
            "cell_type": "code",
            "execution_count": 8,
            "source": [
                "plt.close('all')\r\n",
                "\r\n",
                "material_1 = Material('vacuum', 1.0, 5.0)\r\n",
                "material_2 = Material('water', 1.33, 5.0)\r\n",
                "\r\n",
                "reflectance_experiment(material_1, material_2)\r\n",
                "\r\n",
                "\r\n",
                "incident_ray = LightRay(0, 0.001, polarization='p')\r\n",
                "lightray_experiment('snell',incident_ray, material_1, material_2)\r\n",
                "lightray_experiment('fresnel',incident_ray, material_1, material_2)\r\n",
                "\r\n",
                "incident_ray = LightRay(0, 0.001, polarization='s')\r\n",
                "lightray_experiment('fresnel',incident_ray, material_1, material_2)"
            ],
            "outputs": [
                {
                    "output_type": "display_data",
                    "data": {
                        "application/vnd.jupyter.widget-view+json": {
                            "version_major": 2,
                            "version_minor": 0,
                            "model_id": "2892ec87460e46d89b68f55c529481a8"
                        },
                        "text/plain": [
                            "Canvas(toolbar=Toolbar(toolitems=[('Home', 'Reset original view', 'home', 'home'), ('Back', 'Back to previous …"
                        ]
                    },
                    "metadata": {}
                },
                {
                    "output_type": "stream",
                    "name": "stdout",
                    "text": [
                        "hight\n"
                    ]
                },
                {
                    "output_type": "display_data",
                    "data": {
                        "application/vnd.jupyter.widget-view+json": {
                            "version_major": 2,
                            "version_minor": 0,
                            "model_id": "397625452e294c5e8b3c4a206d2ca72f"
                        },
                        "text/plain": [
                            "Canvas(toolbar=Toolbar(toolitems=[('Home', 'Reset original view', 'home', 'home'), ('Back', 'Back to previous …"
                        ]
                    },
                    "metadata": {}
                },
                {
                    "output_type": "stream",
                    "name": "stdout",
                    "text": [
                        "hight\n"
                    ]
                },
                {
                    "output_type": "display_data",
                    "data": {
                        "application/vnd.jupyter.widget-view+json": {
                            "version_major": 2,
                            "version_minor": 0,
                            "model_id": "2005ecdec4b94933a6632ff1f7bc791a"
                        },
                        "text/plain": [
                            "Canvas(toolbar=Toolbar(toolitems=[('Home', 'Reset original view', 'home', 'home'), ('Back', 'Back to previous …"
                        ]
                    },
                    "metadata": {}
                },
                {
                    "output_type": "stream",
                    "name": "stdout",
                    "text": [
                        "hight\n"
                    ]
                },
                {
                    "output_type": "display_data",
                    "data": {
                        "application/vnd.jupyter.widget-view+json": {
                            "version_major": 2,
                            "version_minor": 0,
                            "model_id": "1b49fafd6e334d80ada4fed4895f2e5b"
                        },
                        "text/plain": [
                            "Canvas(toolbar=Toolbar(toolitems=[('Home', 'Reset original view', 'home', 'home'), ('Back', 'Back to previous …"
                        ]
                    },
                    "metadata": {}
                }
            ],
            "metadata": {}
        },
        {
            "cell_type": "markdown",
            "source": [
                "### Plot the refracted ray using the snell's and fresnel's law for optoc fiber and fbg for different angles and polarizations"
            ],
            "metadata": {}
        },
        {
            "cell_type": "code",
            "execution_count": 9,
            "source": [
                "material_1 = Material('optic_fiber', 1.45, 5)\r\n",
                "material_2 = Material('fbg', 1.4005, 5.0)\r\n",
                "\r\n",
                "# reflectance_experiment(material_1, material_2)\r\n",
                "\r\n",
                "incident_ray = LightRay(0, 0.001, polarization='p')\r\n",
                "lightray_experiment('snell',incident_ray, material_1, material_2)\r\n",
                "lightray_experiment('fresnel',incident_ray, material_1, material_2)\r\n",
                "\r\n",
                "incident_ray = LightRay(0, 0.001, polarization='s')\r\n",
                "lightray_experiment('fresnel',incident_ray, material_1, material_2)"
            ],
            "outputs": [
                {
                    "output_type": "stream",
                    "name": "stdout",
                    "text": [
                        "hight\n"
                    ]
                },
                {
                    "output_type": "display_data",
                    "data": {
                        "application/vnd.jupyter.widget-view+json": {
                            "version_major": 2,
                            "version_minor": 0,
                            "model_id": "fdec132887974a0ba3a91adcb1d78920"
                        },
                        "text/plain": [
                            "Canvas(toolbar=Toolbar(toolitems=[('Home', 'Reset original view', 'home', 'home'), ('Back', 'Back to previous …"
                        ]
                    },
                    "metadata": {}
                },
                {
                    "output_type": "stream",
                    "name": "stdout",
                    "text": [
                        "hight\n"
                    ]
                },
                {
                    "output_type": "display_data",
                    "data": {
                        "application/vnd.jupyter.widget-view+json": {
                            "version_major": 2,
                            "version_minor": 0,
                            "model_id": "c592c93f60eb44498915508e288d1ac7"
                        },
                        "text/plain": [
                            "Canvas(toolbar=Toolbar(toolitems=[('Home', 'Reset original view', 'home', 'home'), ('Back', 'Back to previous …"
                        ]
                    },
                    "metadata": {}
                },
                {
                    "output_type": "stream",
                    "name": "stdout",
                    "text": [
                        "hight\n"
                    ]
                },
                {
                    "output_type": "display_data",
                    "data": {
                        "application/vnd.jupyter.widget-view+json": {
                            "version_major": 2,
                            "version_minor": 0,
                            "model_id": "a3031f9549234637bcf854e718b0c252"
                        },
                        "text/plain": [
                            "Canvas(toolbar=Toolbar(toolitems=[('Home', 'Reset original view', 'home', 'home'), ('Back', 'Back to previous …"
                        ]
                    },
                    "metadata": {}
                }
            ],
            "metadata": {}
        },
        {
            "cell_type": "markdown",
            "source": [
                "## Periodic experiment to see intensity decay for multiple interfaces"
            ],
            "metadata": {}
        },
        {
            "cell_type": "code",
            "execution_count": 10,
            "source": [
                "def periodic_experiment_multiple_angles( material_1: Material,\r\n",
                "                                        material_2: Material, \r\n",
                "                                        number_of_interfaces:int,\r\n",
                "                                        polarization:str='p',\r\n",
                "                                        angle_range:tuple=(0.001,90),\r\n",
                "                                        steps: int=10) -> None:\r\n",
                "    fig, ax = plt.subplots()\r\n",
                "    ray_color = [1.0, 0.0, 0.0, 1.0]\r\n",
                "\r\n",
                "    angles = np.linspace(angle_range[0], angle_range[1], num=steps)\r\n",
                "    \r\n",
                "    for angle in angles:\r\n",
                "        incident_ray = LightRay(0, angle, polarization=polarization)\r\n",
                "        incident_x_start = -tan(radians(incident_ray.angle))*material_1.thickness\r\n",
                "        incident_y_start = material_1.thickness\r\n",
                "        incident_x_end = 0\r\n",
                "        incident_y_end = 0\r\n",
                "\r\n",
                "        incident_ray.start_coordinates = (incident_x_start, incident_y_start)\r\n",
                "        incident_ray.end_coordinates = (incident_x_end, incident_y_end)\r\n",
                "\r\n",
                "        ray_power = [1]\r\n",
                "\r\n",
                "        reflected_ray, transmitted_ray = fresnel_resultant(incident_ray, material_1, material_2)\r\n",
                "\r\n",
                "        for interface in range(number_of_interfaces):\r\n",
                "            ray_power.append(ray_power[-1]*transmitted_ray.ratio)\r\n",
                "\r\n",
                "        if ray_color[2] + 1/len(angles) < 1:\r\n",
                "            ray_color[2] += 1/len(angles) \r\n",
                "            ray_color[0] -= 1/len(angles) \r\n",
                "        ax.plot(ray_power,label='{}$^\\circ$'.format(int(angle)), color=colors.to_rgba_array(ray_color))\r\n",
                "\r\n",
                "\r\n",
                "    ax.set_title('Power transmission trught {} interfaces - {}/{}\\npolarization= {}'.format(number_of_interfaces,\r\n",
                "                                                                                            material_1.name,\r\n",
                "                                                                                            material_2.name,\r\n",
                "                                                                                            polarization))\r\n",
                "    ax.set_xlabel(\"interfaces\")\r\n",
                "    ax.set_xlim(0, number_of_interfaces)\r\n",
                "    ax.set_ylabel(\"relative power\")\r\n",
                "    plt.yticks(np.arange(-0.1, 1.1, 0.1))\r\n",
                "    ax.set_ylim(-0.1, 1.1)\r\n",
                "\r\n",
                "\r\n",
                "    norm = colors.Normalize(vmin=int(angle_range[0]), vmax=int(angle_range[1]))\r\n",
                "    cmap = cm.ScalarMappable(norm=norm, cmap=colors.LinearSegmentedColormap.from_list('mycolors',['red','blue']))\r\n",
                "    cmap.set_array([])\r\n",
                "    fig.colorbar(cmap, shrink=0.8,label='angle of incidence (degrees)',\r\n",
                "                                    ticks=np.linspace(int(angle_range[0]), int(angle_range[1]), num=2))   \r\n",
                "    # plt.legend()\r\n",
                "    plt.show()"
            ],
            "outputs": [],
            "metadata": {}
        },
        {
            "cell_type": "code",
            "execution_count": 11,
            "source": [
                "material_1 = Material('optic_fiber', 1.45, 5)\r\n",
                "material_2 = Material('fbg', 1.4, 5)\r\n",
                "\r\n",
                "periodic_experiment_multiple_angles(material_1, material_2, number_of_interfaces=10000, polarization='p', steps=20)\r\n",
                "periodic_experiment_multiple_angles(material_1, material_2, number_of_interfaces=10000, polarization='s', steps=20)"
            ],
            "outputs": [
                {
                    "output_type": "display_data",
                    "data": {
                        "application/vnd.jupyter.widget-view+json": {
                            "version_major": 2,
                            "version_minor": 0,
                            "model_id": "054774600eb241628d2a7e44133a6413"
                        },
                        "text/plain": [
                            "Canvas(toolbar=Toolbar(toolitems=[('Home', 'Reset original view', 'home', 'home'), ('Back', 'Back to previous …"
                        ]
                    },
                    "metadata": {}
                },
                {
                    "output_type": "display_data",
                    "data": {
                        "application/vnd.jupyter.widget-view+json": {
                            "version_major": 2,
                            "version_minor": 0,
                            "model_id": "91c708fec0a8451baafb52a5a2f13bb3"
                        },
                        "text/plain": [
                            "Canvas(toolbar=Toolbar(toolitems=[('Home', 'Reset original view', 'home', 'home'), ('Back', 'Back to previous …"
                        ]
                    },
                    "metadata": {}
                }
            ],
            "metadata": {}
        },
        {
            "cell_type": "markdown",
            "source": [
                "### Transmission power at each layer, changing the refractive index contrast"
            ],
            "metadata": {}
        },
        {
            "cell_type": "code",
            "execution_count": 12,
            "source": [
                "def periodic_experiment_multiple_contrasts( incident_ray: LightRay,\r\n",
                "                                            material_1: Material,\r\n",
                "                                            material_2: Material, \r\n",
                "                                            number_of_interfaces:int,\r\n",
                "                                            contrasts_list:list) -> None:\r\n",
                "    fig, ax = plt.subplots()\r\n",
                "\r\n",
                "    for contrast in contrasts_list:\r\n",
                "\r\n",
                "        current_ray = incident_ray\r\n",
                "        material_1.refractive_index = contrast[0]\r\n",
                "        material_2.refractive_index = contrast[1]\r\n",
                "        \r\n",
                "        ray_power = [1]\r\n",
                "        \r\n",
                "        reflected_ray, transmitted_ray = fresnel_resultant(incident_ray, material_1, material_2)\r\n",
                "\r\n",
                "        for interface in range(number_of_interfaces):\r\n",
                "            ray_power.append(ray_power[-1]*transmitted_ray.ratio)\r\n",
                "\r\n",
                "        ax.plot(ray_power,label='{}/{}'.format(contrast[0],contrast[1]))\r\n",
                "\r\n",
                "\r\n",
                "    ax.set_title('Power transmission trught {} interfaces - {}/{}\\npolarization= {}'.format(number_of_interfaces,\r\n",
                "                                                                                            material_1.name,\r\n",
                "                                                                                            material_2.name,\r\n",
                "                                                                                            incident_ray.polarization))\r\n",
                "    ax.set_xlabel(\"interfaces\")\r\n",
                "    ax.set_xlim(0, number_of_interfaces)\r\n",
                "    ax.set_ylabel(\"relative power\")\r\n",
                "    plt.yticks(np.arange(-0.1, 1.1, 0.1))\r\n",
                "    ax.set_ylim(-0.1, 1.1)\r\n",
                "\r\n",
                "    plt.legend(title='contrast')\r\n",
                "    plt.show()"
            ],
            "outputs": [],
            "metadata": {}
        },
        {
            "cell_type": "code",
            "execution_count": 13,
            "source": [
                "material_1 = Material('optic_fiber', 1.45, 5)\r\n",
                "material_2 = Material('fbg', 1.4, 5)\r\n",
                "\r\n",
                "incident_ray.layer = 0\r\n",
                "incident_x_start = -tan(radians(incident_ray.angle))*material_1.thickness\r\n",
                "incident_y_start = material_1.thickness\r\n",
                "incident_x_end = 0\r\n",
                "incident_y_end = 0\r\n",
                "incident_ray.start_coordinates = (incident_x_start, incident_y_start)\r\n",
                "incident_ray.end_coordinates = (incident_x_end, incident_y_end)\r\n",
                "\r\n",
                "contrasts_list = [(1.45,1.4), (1.45,1.35), (1.45,1.3), (1.45,1.25), (1.45,1.2)]\r\n",
                "periodic_experiment_multiple_contrasts( incident_ray, material_1,material_2, 10000, contrasts_list)"
            ],
            "outputs": [
                {
                    "output_type": "display_data",
                    "data": {
                        "application/vnd.jupyter.widget-view+json": {
                            "version_major": 2,
                            "version_minor": 0,
                            "model_id": "d00cadeb75974999b5b2c4de48f1259d"
                        },
                        "text/plain": [
                            "Canvas(toolbar=Toolbar(toolitems=[('Home', 'Reset original view', 'home', 'home'), ('Back', 'Back to previous …"
                        ]
                    },
                    "metadata": {}
                }
            ],
            "metadata": {}
        },
        {
            "cell_type": "markdown",
            "source": [
                "## Ressonance Experiemt"
            ],
            "metadata": {}
        },
        {
            "cell_type": "code",
            "execution_count": 14,
            "source": [
                "def resonance_experiment_multiple_wavelengths(incident_ray: LightRay, \r\n",
                "                                                material_1: Material, material_2: Material, \r\n",
                "                                                wavelength_range:tuple=(1539, 1540.5),\r\n",
                "                                                wavelength_steps:int=200,\r\n",
                "                                                number_of_interfaces:list=[1]) -> None:\r\n",
                "    \r\n",
                "\r\n",
                "    wavelengths = np.linspace(wavelength_range[0], wavelength_range[1], num=wavelength_steps)\r\n",
                "\r\n",
                "    \r\n",
                "\r\n",
                "    reflected_ray, transmitted_ray = fresnel_resultant(incident_ray, material_1, material_2)\r\n",
                "    print(\"reflectance: {} | transmittance: {}\".format(reflected_ray.ratio, transmitted_ray.ratio))\r\n",
                "\r\n",
                "    fig, ax = plt.subplots()\r\n",
                "    ax.set_title('Reflected sum for - {}/{}\\n'.format(material_1.name, material_2.name))\r\n",
                "    ax.set_xlabel(\"wavelength\")\r\n",
                "    ax.set_ylabel(\"relative power\")\r\n",
                "\r\n",
                "\r\n",
                "    for number in number_of_interfaces:\r\n",
                "        reflected_sum_list = []\r\n",
                "        for wavelength in wavelengths:\r\n",
                "\r\n",
                "            incident_ray.wavelength = wavelength\r\n",
                "            wavelength_material_1 = incident_ray.wavelength/material_1.refractive_index\r\n",
                "            wavelength_material_2 = incident_ray.wavelength/material_2.refractive_index\r\n",
                "\r\n",
                "            path_1 = (material_1.thickness*1000)/cos(radians(reflected_ray.angle))\r\n",
                "            path_2 = (material_2.thickness*1000)/cos(radians(transmitted_ray.angle))\r\n",
                "\r\n",
                "            phase_shift_1 = ((path_1%wavelength_material_1)*2*pi)/wavelength_material_1\r\n",
                "            phase_shift_2 = ((path_2%wavelength_material_2)*2*pi)/wavelength_material_2\r\n",
                "\r\n",
                "            reflected_sum = 0\r\n",
                "            for interface in range(number):\r\n",
                "                if interface % 2 == 0:\r\n",
                "                    total_phase_shift = interface*phase_shift_1+interface*phase_shift_2\r\n",
                "                else:\r\n",
                "                    total_phase_shift = (interface-1)*phase_shift_1+(interface+1)*phase_shift_2\r\n",
                "                amplitude = reflected_ray.ratio*(transmitted_ray.ratio**2)**interface\r\n",
                "                reflected_sum = reflected_sum + amplitude*cos(total_phase_shift)\r\n",
                "            reflected_sum_list.append(reflected_sum**2)\r\n",
                "\r\n",
                "        ax.plot(wavelengths, reflected_sum_list, label=number)\r\n",
                "\r\n",
                "    plt.legend()\r\n",
                "    plt.show()                     \r\n"
            ],
            "outputs": [],
            "metadata": {}
        },
        {
            "cell_type": "code",
            "execution_count": 15,
            "source": [
                "material_1 = Material('optic_fiber', 1.45, 1)\r\n",
                "material_2 = Material('fbg', 1.4505, 1)\r\n",
                "\r\n",
                "incident_ray = LightRay(0, 0.01, polarization='s')\r\n",
                "\r\n",
                "incident_ray.layer = 0\r\n",
                "incident_x_start = -tan(radians(incident_ray.angle))*material_1.thickness\r\n",
                "incident_y_start = material_1.thickness\r\n",
                "incident_x_end = 0\r\n",
                "incident_y_end = 0\r\n",
                "incident_ray.start_coordinates = (incident_x_start, incident_y_start)\r\n",
                "incident_ray.end_coordinates = (incident_x_end, incident_y_end)\r\n",
                "\r\n",
                "resonance_experiment_multiple_wavelengths(incident_ray,material_1, material_2,wavelength_range= (500, 1000), wavelength_steps=50000, number_of_interfaces=[500])"
            ],
            "outputs": [
                {
                    "output_type": "stream",
                    "name": "stdout",
                    "text": [
                        "reflectance: 2.97162699897167e-08 | transmittance: 0.99999997028373\n"
                    ]
                },
                {
                    "output_type": "display_data",
                    "data": {
                        "application/vnd.jupyter.widget-view+json": {
                            "version_major": 2,
                            "version_minor": 0,
                            "model_id": "3c2268b32edd4a41a62f0dd3fb13d5f5"
                        },
                        "text/plain": [
                            "Canvas(toolbar=Toolbar(toolitems=[('Home', 'Reset original view', 'home', 'home'), ('Back', 'Back to previous …"
                        ]
                    },
                    "metadata": {}
                }
            ],
            "metadata": {}
        },
        {
            "cell_type": "code",
            "execution_count": 16,
            "source": [
                "material_1 = Material('optic_fiber', 1.45, 5)\r\n",
                "material_2 = Material('fbg', 1.4505, 5)\r\n",
                "\r\n",
                "incident_ray = LightRay(0, 0.01, polarization='s')\r\n",
                "\r\n",
                "incident_ray.layer = 0\r\n",
                "incident_x_start = -tan(radians(incident_ray.angle))*material_1.thickness\r\n",
                "incident_y_start = material_1.thickness\r\n",
                "incident_x_end = 0\r\n",
                "incident_y_end = 0\r\n",
                "incident_ray.start_coordinates = (incident_x_start, incident_y_start)\r\n",
                "incident_ray.end_coordinates = (incident_x_end, incident_y_end)\r\n",
                "\r\n",
                "resonance_experiment_multiple_wavelengths(incident_ray,material_1, material_2,wavelength_range= (966, 968), wavelength_steps=10000, number_of_interfaces=[100,200,300])"
            ],
            "outputs": [
                {
                    "output_type": "stream",
                    "name": "stdout",
                    "text": [
                        "reflectance: 2.97162699897167e-08 | transmittance: 0.99999997028373\n"
                    ]
                },
                {
                    "output_type": "display_data",
                    "data": {
                        "application/vnd.jupyter.widget-view+json": {
                            "version_major": 2,
                            "version_minor": 0,
                            "model_id": "8e08da055ae249769e0f249de12d2a85"
                        },
                        "text/plain": [
                            "Canvas(toolbar=Toolbar(toolitems=[('Home', 'Reset original view', 'home', 'home'), ('Back', 'Back to previous …"
                        ]
                    },
                    "metadata": {}
                }
            ],
            "metadata": {}
        },
        {
            "cell_type": "markdown",
            "source": [
                "### For multiple angles"
            ],
            "metadata": {}
        },
        {
            "cell_type": "code",
            "execution_count": 17,
            "source": [
                "def resonance_experiment_multiple_angles(incident_ray: LightRay, \r\n",
                "                                            material_1: Material, material_2: Material, \r\n",
                "                                            angle_range:tuple=(0.001, 80),\r\n",
                "                                            angle_steps:int=100,\r\n",
                "                                            number_of_interfaces:list=[1]) -> None:\r\n",
                "    \r\n",
                "    wavelength_material_1 = incident_ray.wavelength/material_1.refractive_index\r\n",
                "    wavelength_material_2 = incident_ray.wavelength/material_2.refractive_index\r\n",
                "\r\n",
                "    angles = np.linspace(angle_range[0], angle_range[1], num=angle_steps)\r\n",
                "\r\n",
                "\r\n",
                "    fig, ax = plt.subplots()\r\n",
                "    ax.set_title('Reflected sum for {} interfaces - {}/{}\\n'.format(number_of_interfaces,\r\n",
                "                                                                                material_1.name,\r\n",
                "                                                                                material_2.name))\r\n",
                "\r\n",
                "    for number in number_of_interfaces:\r\n",
                "        reflected_sum_list = []\r\n",
                "        for angle in angles:\r\n",
                "            \r\n",
                "            incident_ray.angle = angle\r\n",
                "            reflected_ray, transmitted_ray = fresnel_resultant(incident_ray, material_1, material_2)\r\n",
                "\r\n",
                "            path_1 = (material_1.thickness*1000)/cos(radians(reflected_ray.angle))\r\n",
                "            path_2 = (material_2.thickness*1000)/cos(radians(transmitted_ray.angle))\r\n",
                "\r\n",
                "            phase_shift_1 = ((path_1%wavelength_material_1)*2*pi)/wavelength_material_1\r\n",
                "            phase_shift_2 = ((path_2%wavelength_material_2)*2*pi)/wavelength_material_2\r\n",
                "\r\n",
                "            reflected_sum = 0\r\n",
                "            for interface in range(number):\r\n",
                "                if interface % 2 == 0:\r\n",
                "                    total_phase_shift = interface*phase_shift_1+interface*phase_shift_2\r\n",
                "                else:\r\n",
                "                    total_phase_shift = (interface-1)*phase_shift_1+(interface+1)*phase_shift_2\r\n",
                "                amplitude = reflected_ray.ratio*(transmitted_ray.ratio**2)**interface\r\n",
                "                reflected_sum = reflected_sum + amplitude*cos(total_phase_shift)\r\n",
                "        \r\n",
                "            reflected_sum_list.append(reflected_sum**2)\r\n",
                "        ax.plot(angles,reflected_sum_list, label=number)\r\n",
                "    \r\n",
                "    ax.set_xlabel(\"angle\")\r\n",
                "    ax.set_ylabel(\"relative power\")\r\n",
                "\r\n",
                "    plt.legend()\r\n",
                "    plt.show()                     "
            ],
            "outputs": [],
            "metadata": {}
        },
        {
            "cell_type": "code",
            "execution_count": 18,
            "source": [
                "material_1 = Material('optic_fiber', 1.45, 5)\r\n",
                "material_2 = Material('fbg', 1.4505, 5)\r\n",
                "\r\n",
                "incident_ray = LightRay(0, 0.01, polarization='s')\r\n",
                "\r\n",
                "incident_ray.layer = 0\r\n",
                "incident_x_start = -tan(radians(incident_ray.angle))*material_1.thickness\r\n",
                "incident_y_start = material_1.thickness\r\n",
                "incident_x_end = 0\r\n",
                "incident_y_end = 0\r\n",
                "incident_ray.start_coordinates = (incident_x_start, incident_y_start)\r\n",
                "incident_ray.end_coordinates = (incident_x_end, incident_y_end)\r\n",
                "\r\n",
                "incident_ray.wavelength = 1550\r\n",
                "\r\n",
                "resonance_experiment_multiple_angles(incident_ray,material_1, material_2,angle_range= (0, 20), angle_steps=1000, number_of_interfaces=[500, 10])"
            ],
            "outputs": [
                {
                    "output_type": "display_data",
                    "data": {
                        "application/vnd.jupyter.widget-view+json": {
                            "version_major": 2,
                            "version_minor": 0,
                            "model_id": "aad05f6829d244bdb4a1f09913598a15"
                        },
                        "text/plain": [
                            "Canvas(toolbar=Toolbar(toolitems=[('Home', 'Reset original view', 'home', 'home'), ('Back', 'Back to previous …"
                        ]
                    },
                    "metadata": {}
                }
            ],
            "metadata": {}
        },
        {
            "cell_type": "markdown",
            "source": [
                "## Periodic structure experiemnt"
            ],
            "metadata": {}
        },
        {
            "cell_type": "code",
            "execution_count": 19,
            "source": [
                "def periodic_structure_experiment(incident_ray: LightRay, \r\n",
                "                                material_1: Material, material_2: Material, \r\n",
                "                                number_of_interfaces:int=1) -> None:\r\n",
                "    lightray_graph = RayGraph(material_1, material_2,number_of_interfaces)\r\n",
                "    lightray_graph.ray_color = [1.0, 0.0, 0.0, 1.0]\r\n",
                "    lightray_graph.ray_alpha = 1.0\r\n",
                "\r\n",
                "    lightray_graph.axis.set_title('Fresnel analysis - {}/{} \\n incident ray polarization = {}'.format(material_1.name,\r\n",
                "                                                                                                material_2.name, \r\n",
                "                                                                                                incident_ray.polarization))\r\n",
                "    lightray_graph.plot_vector([incident_ray.start_coordinates, incident_ray.end_coordinates])\r\n",
                "\r\n",
                "    incident_x_start = -tan(radians(incident_ray.angle))*material_1.thickness\r\n",
                "    incident_y_start = material_1.thickness\r\n",
                "    incident_x_end = 0\r\n",
                "    incident_y_end = 0\r\n",
                "\r\n",
                "    incident_ray.start_coordinates = (incident_x_start, incident_y_start)\r\n",
                "    incident_ray.end_coordinates = (incident_x_end, incident_y_end)\r\n",
                "    current_ray = incident_ray\r\n",
                "    \r\n",
                "    for interface_number in range(0, number_of_interfaces):\r\n",
                "        if interface_number % 2 == 0:\r\n",
                "            reflected_ray, transmitted_ray = fresnel_resultant(current_ray, material_1, material_2)\r\n",
                "        else:\r\n",
                "            reflected_ray, transmitted_ray = fresnel_resultant(current_ray, material_2, material_1)\r\n",
                "        lightray_graph.plot_vector([reflected_ray.start_coordinates, reflected_ray.end_coordinates])\r\n",
                "        lightray_graph.plot_vector([transmitted_ray.start_coordinates, transmitted_ray.end_coordinates])\r\n",
                "        current_ray = transmitted_ray\r\n",
                "        \r\n",
                "\r\n",
                "    lightray_graph.show()\r\n",
                "    \r\n",
                "material_1 = Material('vacuum', 1.0, 5.0)\r\n",
                "material_2 = Material('water', 1.33, 5.0)\r\n",
                "\r\n",
                "\r\n",
                "incident_ray = LightRay(0, 10, polarization='s')\r\n",
                "incident_ray.layer = 0\r\n",
                "\r\n",
                "incident_x_start = -tan(radians(incident_ray.angle))*material_1.thickness\r\n",
                "incident_y_start = material_1.thickness\r\n",
                "incident_x_end = 0\r\n",
                "incident_y_end = 0\r\n",
                "\r\n",
                "incident_ray.start_coordinates = (incident_x_start, incident_y_start)\r\n",
                "incident_ray.end_coordinates = (incident_x_end, incident_y_end)\r\n",
                "\r\n",
                "# periodic_structure_experiment(incident_ray, material_1, material_2,50)"
            ],
            "outputs": [],
            "metadata": {}
        }
    ],
    "metadata": {
        "orig_nbformat": 4,
        "language_info": {
            "name": "python",
            "version": "3.9.7",
            "mimetype": "text/x-python",
            "codemirror_mode": {
                "name": "ipython",
                "version": 3
            },
            "pygments_lexer": "ipython3",
            "nbconvert_exporter": "python",
            "file_extension": ".py"
        },
        "kernelspec": {
            "name": "python3",
            "display_name": "Python 3.9.7 64-bit (windows store)"
        },
        "interpreter": {
            "hash": "d2e006b74b14ee14e79b2cbd817fb15e7075a0f22c1a58ed9885a84a2a84bdaf"
        }
    },
    "nbformat": 4,
    "nbformat_minor": 2
}