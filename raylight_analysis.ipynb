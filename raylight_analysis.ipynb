{
    "cells": [
        {
            "cell_type": "markdown",
            "source": [
                "## Raylight Analysys\r\n",
                "\r\n",
                "In this notebook we will study light reflaction ans refraction, using raylight analysis and the Snell and Fresnel equations."
            ],
            "metadata": {}
        },
        {
            "cell_type": "code",
            "execution_count": 2,
            "source": [
                "import numpy as np\r\n",
                "import matplotlib.pyplot as plt"
            ],
            "outputs": [],
            "metadata": {}
        },
        {
            "cell_type": "markdown",
            "source": [
                "Exemple of how to plot vectors with matplotlib"
            ],
            "metadata": {}
        },
        {
            "cell_type": "code",
            "execution_count": 3,
            "source": [
                "V = np.array([[1,1], [-2,2], [4,-7]])\r\n",
                "origin = np.array([[0, 0, 0],[0, 0, 0]]) # origin point\r\n",
                "\r\n",
                "plt.quiver(*origin, V[:,0], V[:,1], color=['r','b','g'], scale=21)\r\n",
                "plt.show()"
            ],
            "outputs": [
                {
                    "output_type": "display_data",
                    "data": {
                        "text/plain": [
                            "<Figure size 432x288 with 1 Axes>"
                        ],
                        "image/png": "[encoded data removed]"
                    },
                    "metadata": {
                        "needs_background": "light"
                    }
                }
            ],
            "metadata": {}
        }
    ],
    "metadata": {
        "orig_nbformat": 4,
        "language_info": {
            "name": "python",
            "version": "3.9.6",
            "mimetype": "text/x-python",
            "codemirror_mode": {
                "name": "ipython",
                "version": 3
            },
            "pygments_lexer": "ipython3",
            "nbconvert_exporter": "python",
            "file_extension": ".py"
        },
        "kernelspec": {
            "name": "python3",
            "display_name": "Python 3.9.6 64-bit (windows store)"
        },
        "interpreter": {
            "hash": "d2e006b74b14ee14e79b2cbd817fb15e7075a0f22c1a58ed9885a84a2a84bdaf"
        }
    },
    "nbformat": 4,
    "nbformat_minor": 2
}